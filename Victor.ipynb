{
  "nbformat": 4,
  "nbformat_minor": 0,
  "metadata": {
    "colab": {
      "provenance": [],
      "authorship_tag": "ABX9TyOX9Zw7KHhzK3VZEHWQS1yb",
      "include_colab_link": true
    },
    "kernelspec": {
      "name": "python3",
      "display_name": "Python 3"
    },
    "language_info": {
      "name": "python"
    }
  },
  "cells": [
    {
      "cell_type": "markdown",
      "metadata": {
        "id": "view-in-github",
        "colab_type": "text"
      },
      "source": [
        "<a href=\"https://colab.research.google.com/github/adeyeyesaidah/data/blob/main/Victor.ipynb\" target=\"_parent\"><img src=\"https://colab.research.google.com/assets/colab-badge.svg\" alt=\"Open In Colab\"/></a>"
      ]
    },
    {
      "cell_type": "markdown",
      "source": [
        "Import Necessary Libaries"
      ],
      "metadata": {
        "id": "FEZVFt3xD3Du"
      }
    },
    {
      "cell_type": "code",
      "execution_count": 1,
      "metadata": {
        "id": "HhjbikfOAxvq"
      },
      "outputs": [],
      "source": [
        "#  import Libaries\n",
        "import pandas as pd\n",
        "import numpy as np\n",
        "import matplotlib.pyplot as plt\n",
        "%matplotlib inline\n",
        "import seaborn as sns\n",
        "from google.colab import files\n"
      ]
    },
    {
      "cell_type": "markdown",
      "source": [
        "Read the excel file as a dataframe called df"
      ],
      "metadata": {
        "id": "nixJvwDRD_IT"
      }
    },
    {
      "cell_type": "code",
      "source": [
        "url = 'https://github.com/adeyeyesaidah/data/raw/main/OJEMUYIDE%20_VICTOR_OLADAYO%20.xlsx'\n",
        "df = pd.read_excel(url)"
      ],
      "metadata": {
        "id": "s_Go1t_KDQs5"
      },
      "execution_count": 3,
      "outputs": []
    },
    {
      "cell_type": "code",
      "source": [
        "df.head()"
      ],
      "metadata": {
        "colab": {
          "base_uri": "https://localhost:8080/",
          "height": 585
        },
        "id": "rXu9rCMkDYRg",
        "outputId": "101cb30d-9762-4352-9133-ec3aa44cad2e"
      },
      "execution_count": 4,
      "outputs": [
        {
          "output_type": "execute_result",
          "data": {
            "text/plain": [
              "   Row ID        Order ID           Order Date            Ship Date  \\\n",
              "0     1.0  CA-2016-152156  2016-08-11 00:00:00  2016-11-11 00:00:00   \n",
              "1     2.0  CA-2016-152156  2016-08-11 00:00:00  2016-11-11 00:00:00   \n",
              "2     3.0  CA-2016-138688  2016-12-06 00:00:00            6/16/2016   \n",
              "3     4.0  US-2015-108966  2015-11-10 00:00:00           10/18/2015   \n",
              "4     NaN  US-2015-108966  2015-11-10 00:00:00           10/18/j015   \n",
              "\n",
              "        Ship Mode Customer ID    Customer Name    Segment        Country  \\\n",
              "0    Second Class    CG-12520      Claire Gute   Consumer  United States   \n",
              "1    Second Class    CG-12520      Clrire Gute   Consumer  United States   \n",
              "2    SecondtClass    DV-13045  Darrin Van Huff  Corporate  United States   \n",
              "3  Standard Class    SO-20335   Sean O'Donnell   Consumer  United States   \n",
              "4  Standard Class    SO-20335   Sean O'Donnell   Consumer  United States   \n",
              "\n",
              "              City  ... Postal Code  Region       Product ID         Category  \\\n",
              "0        Henderson  ...     42420.0   South  FUR-BO-10001798        Furniture   \n",
              "1        Henderson  ...     42420.0   South  FUR-CH-10000454        Furniture   \n",
              "2      Los Angeles  ...     90036.0    West  OFF-LA-10000240  Office Supplies   \n",
              "3  Fort Lauderdale  ...     33311.0   South  FUR-TA-10000577        Furniture   \n",
              "4  Fort Lauderdale  ...     33311.0   South  OFF-ST-10000760  Office Supplies   \n",
              "\n",
              "  Sub-Category                                       Product Name       Sales  \\\n",
              "0    Bookcases                  Bush Somerset Collection Bookcase  384.606521   \n",
              "1       Chairs  Hon Deluxe Fabric Upholstered Stacking Chairs,...  939.510811   \n",
              "2       Labels  Self-Adhesive Address Labels for Typewriters b...   20.496700   \n",
              "3       Tables      Bretford CR4500 Series Slim Rectangular Table  622.846863   \n",
              "4      Storage                     Eldon Fold 'N Roll Cart System   20.648257   \n",
              "\n",
              "   Quantity  Discount      Profit  \n",
              "0       2.0      0.00   60.961748  \n",
              "1       3.0      0.00  160.630816  \n",
              "2       2.0      0.00         NaN  \n",
              "3       5.0      0.45 -475.035364  \n",
              "4       2.0      0.20    1.496114  \n",
              "\n",
              "[5 rows x 21 columns]"
            ],
            "text/html": [
              "\n",
              "  <div id=\"df-96d9f117-a86b-438f-85e0-c66339253071\" class=\"colab-df-container\">\n",
              "    <div>\n",
              "<style scoped>\n",
              "    .dataframe tbody tr th:only-of-type {\n",
              "        vertical-align: middle;\n",
              "    }\n",
              "\n",
              "    .dataframe tbody tr th {\n",
              "        vertical-align: top;\n",
              "    }\n",
              "\n",
              "    .dataframe thead th {\n",
              "        text-align: right;\n",
              "    }\n",
              "</style>\n",
              "<table border=\"1\" class=\"dataframe\">\n",
              "  <thead>\n",
              "    <tr style=\"text-align: right;\">\n",
              "      <th></th>\n",
              "      <th>Row ID</th>\n",
              "      <th>Order ID</th>\n",
              "      <th>Order Date</th>\n",
              "      <th>Ship Date</th>\n",
              "      <th>Ship Mode</th>\n",
              "      <th>Customer ID</th>\n",
              "      <th>Customer Name</th>\n",
              "      <th>Segment</th>\n",
              "      <th>Country</th>\n",
              "      <th>City</th>\n",
              "      <th>...</th>\n",
              "      <th>Postal Code</th>\n",
              "      <th>Region</th>\n",
              "      <th>Product ID</th>\n",
              "      <th>Category</th>\n",
              "      <th>Sub-Category</th>\n",
              "      <th>Product Name</th>\n",
              "      <th>Sales</th>\n",
              "      <th>Quantity</th>\n",
              "      <th>Discount</th>\n",
              "      <th>Profit</th>\n",
              "    </tr>\n",
              "  </thead>\n",
              "  <tbody>\n",
              "    <tr>\n",
              "      <th>0</th>\n",
              "      <td>1.0</td>\n",
              "      <td>CA-2016-152156</td>\n",
              "      <td>2016-08-11 00:00:00</td>\n",
              "      <td>2016-11-11 00:00:00</td>\n",
              "      <td>Second Class</td>\n",
              "      <td>CG-12520</td>\n",
              "      <td>Claire Gute</td>\n",
              "      <td>Consumer</td>\n",
              "      <td>United States</td>\n",
              "      <td>Henderson</td>\n",
              "      <td>...</td>\n",
              "      <td>42420.0</td>\n",
              "      <td>South</td>\n",
              "      <td>FUR-BO-10001798</td>\n",
              "      <td>Furniture</td>\n",
              "      <td>Bookcases</td>\n",
              "      <td>Bush Somerset Collection Bookcase</td>\n",
              "      <td>384.606521</td>\n",
              "      <td>2.0</td>\n",
              "      <td>0.00</td>\n",
              "      <td>60.961748</td>\n",
              "    </tr>\n",
              "    <tr>\n",
              "      <th>1</th>\n",
              "      <td>2.0</td>\n",
              "      <td>CA-2016-152156</td>\n",
              "      <td>2016-08-11 00:00:00</td>\n",
              "      <td>2016-11-11 00:00:00</td>\n",
              "      <td>Second Class</td>\n",
              "      <td>CG-12520</td>\n",
              "      <td>Clrire Gute</td>\n",
              "      <td>Consumer</td>\n",
              "      <td>United States</td>\n",
              "      <td>Henderson</td>\n",
              "      <td>...</td>\n",
              "      <td>42420.0</td>\n",
              "      <td>South</td>\n",
              "      <td>FUR-CH-10000454</td>\n",
              "      <td>Furniture</td>\n",
              "      <td>Chairs</td>\n",
              "      <td>Hon Deluxe Fabric Upholstered Stacking Chairs,...</td>\n",
              "      <td>939.510811</td>\n",
              "      <td>3.0</td>\n",
              "      <td>0.00</td>\n",
              "      <td>160.630816</td>\n",
              "    </tr>\n",
              "    <tr>\n",
              "      <th>2</th>\n",
              "      <td>3.0</td>\n",
              "      <td>CA-2016-138688</td>\n",
              "      <td>2016-12-06 00:00:00</td>\n",
              "      <td>6/16/2016</td>\n",
              "      <td>SecondtClass</td>\n",
              "      <td>DV-13045</td>\n",
              "      <td>Darrin Van Huff</td>\n",
              "      <td>Corporate</td>\n",
              "      <td>United States</td>\n",
              "      <td>Los Angeles</td>\n",
              "      <td>...</td>\n",
              "      <td>90036.0</td>\n",
              "      <td>West</td>\n",
              "      <td>OFF-LA-10000240</td>\n",
              "      <td>Office Supplies</td>\n",
              "      <td>Labels</td>\n",
              "      <td>Self-Adhesive Address Labels for Typewriters b...</td>\n",
              "      <td>20.496700</td>\n",
              "      <td>2.0</td>\n",
              "      <td>0.00</td>\n",
              "      <td>NaN</td>\n",
              "    </tr>\n",
              "    <tr>\n",
              "      <th>3</th>\n",
              "      <td>4.0</td>\n",
              "      <td>US-2015-108966</td>\n",
              "      <td>2015-11-10 00:00:00</td>\n",
              "      <td>10/18/2015</td>\n",
              "      <td>Standard Class</td>\n",
              "      <td>SO-20335</td>\n",
              "      <td>Sean O'Donnell</td>\n",
              "      <td>Consumer</td>\n",
              "      <td>United States</td>\n",
              "      <td>Fort Lauderdale</td>\n",
              "      <td>...</td>\n",
              "      <td>33311.0</td>\n",
              "      <td>South</td>\n",
              "      <td>FUR-TA-10000577</td>\n",
              "      <td>Furniture</td>\n",
              "      <td>Tables</td>\n",
              "      <td>Bretford CR4500 Series Slim Rectangular Table</td>\n",
              "      <td>622.846863</td>\n",
              "      <td>5.0</td>\n",
              "      <td>0.45</td>\n",
              "      <td>-475.035364</td>\n",
              "    </tr>\n",
              "    <tr>\n",
              "      <th>4</th>\n",
              "      <td>NaN</td>\n",
              "      <td>US-2015-108966</td>\n",
              "      <td>2015-11-10 00:00:00</td>\n",
              "      <td>10/18/j015</td>\n",
              "      <td>Standard Class</td>\n",
              "      <td>SO-20335</td>\n",
              "      <td>Sean O'Donnell</td>\n",
              "      <td>Consumer</td>\n",
              "      <td>United States</td>\n",
              "      <td>Fort Lauderdale</td>\n",
              "      <td>...</td>\n",
              "      <td>33311.0</td>\n",
              "      <td>South</td>\n",
              "      <td>OFF-ST-10000760</td>\n",
              "      <td>Office Supplies</td>\n",
              "      <td>Storage</td>\n",
              "      <td>Eldon Fold 'N Roll Cart System</td>\n",
              "      <td>20.648257</td>\n",
              "      <td>2.0</td>\n",
              "      <td>0.20</td>\n",
              "      <td>1.496114</td>\n",
              "    </tr>\n",
              "  </tbody>\n",
              "</table>\n",
              "<p>5 rows × 21 columns</p>\n",
              "</div>\n",
              "    <div class=\"colab-df-buttons\">\n",
              "\n",
              "  <div class=\"colab-df-container\">\n",
              "    <button class=\"colab-df-convert\" onclick=\"convertToInteractive('df-96d9f117-a86b-438f-85e0-c66339253071')\"\n",
              "            title=\"Convert this dataframe to an interactive table.\"\n",
              "            style=\"display:none;\">\n",
              "\n",
              "  <svg xmlns=\"http://www.w3.org/2000/svg\" height=\"24px\" viewBox=\"0 -960 960 960\">\n",
              "    <path d=\"M120-120v-720h720v720H120Zm60-500h600v-160H180v160Zm220 220h160v-160H400v160Zm0 220h160v-160H400v160ZM180-400h160v-160H180v160Zm440 0h160v-160H620v160ZM180-180h160v-160H180v160Zm440 0h160v-160H620v160Z\"/>\n",
              "  </svg>\n",
              "    </button>\n",
              "\n",
              "  <style>\n",
              "    .colab-df-container {\n",
              "      display:flex;\n",
              "      gap: 12px;\n",
              "    }\n",
              "\n",
              "    .colab-df-convert {\n",
              "      background-color: #E8F0FE;\n",
              "      border: none;\n",
              "      border-radius: 50%;\n",
              "      cursor: pointer;\n",
              "      display: none;\n",
              "      fill: #1967D2;\n",
              "      height: 32px;\n",
              "      padding: 0 0 0 0;\n",
              "      width: 32px;\n",
              "    }\n",
              "\n",
              "    .colab-df-convert:hover {\n",
              "      background-color: #E2EBFA;\n",
              "      box-shadow: 0px 1px 2px rgba(60, 64, 67, 0.3), 0px 1px 3px 1px rgba(60, 64, 67, 0.15);\n",
              "      fill: #174EA6;\n",
              "    }\n",
              "\n",
              "    .colab-df-buttons div {\n",
              "      margin-bottom: 4px;\n",
              "    }\n",
              "\n",
              "    [theme=dark] .colab-df-convert {\n",
              "      background-color: #3B4455;\n",
              "      fill: #D2E3FC;\n",
              "    }\n",
              "\n",
              "    [theme=dark] .colab-df-convert:hover {\n",
              "      background-color: #434B5C;\n",
              "      box-shadow: 0px 1px 3px 1px rgba(0, 0, 0, 0.15);\n",
              "      filter: drop-shadow(0px 1px 2px rgba(0, 0, 0, 0.3));\n",
              "      fill: #FFFFFF;\n",
              "    }\n",
              "  </style>\n",
              "\n",
              "    <script>\n",
              "      const buttonEl =\n",
              "        document.querySelector('#df-96d9f117-a86b-438f-85e0-c66339253071 button.colab-df-convert');\n",
              "      buttonEl.style.display =\n",
              "        google.colab.kernel.accessAllowed ? 'block' : 'none';\n",
              "\n",
              "      async function convertToInteractive(key) {\n",
              "        const element = document.querySelector('#df-96d9f117-a86b-438f-85e0-c66339253071');\n",
              "        const dataTable =\n",
              "          await google.colab.kernel.invokeFunction('convertToInteractive',\n",
              "                                                    [key], {});\n",
              "        if (!dataTable) return;\n",
              "\n",
              "        const docLinkHtml = 'Like what you see? Visit the ' +\n",
              "          '<a target=\"_blank\" href=https://colab.research.google.com/notebooks/data_table.ipynb>data table notebook</a>'\n",
              "          + ' to learn more about interactive tables.';\n",
              "        element.innerHTML = '';\n",
              "        dataTable['output_type'] = 'display_data';\n",
              "        await google.colab.output.renderOutput(dataTable, element);\n",
              "        const docLink = document.createElement('div');\n",
              "        docLink.innerHTML = docLinkHtml;\n",
              "        element.appendChild(docLink);\n",
              "      }\n",
              "    </script>\n",
              "  </div>\n",
              "\n",
              "\n",
              "<div id=\"df-30bfd608-5fc7-4978-b3ad-dafeaf19ad9c\">\n",
              "  <button class=\"colab-df-quickchart\" onclick=\"quickchart('df-30bfd608-5fc7-4978-b3ad-dafeaf19ad9c')\"\n",
              "            title=\"Suggest charts\"\n",
              "            style=\"display:none;\">\n",
              "\n",
              "<svg xmlns=\"http://www.w3.org/2000/svg\" height=\"24px\"viewBox=\"0 0 24 24\"\n",
              "     width=\"24px\">\n",
              "    <g>\n",
              "        <path d=\"M19 3H5c-1.1 0-2 .9-2 2v14c0 1.1.9 2 2 2h14c1.1 0 2-.9 2-2V5c0-1.1-.9-2-2-2zM9 17H7v-7h2v7zm4 0h-2V7h2v10zm4 0h-2v-4h2v4z\"/>\n",
              "    </g>\n",
              "</svg>\n",
              "  </button>\n",
              "\n",
              "<style>\n",
              "  .colab-df-quickchart {\n",
              "      --bg-color: #E8F0FE;\n",
              "      --fill-color: #1967D2;\n",
              "      --hover-bg-color: #E2EBFA;\n",
              "      --hover-fill-color: #174EA6;\n",
              "      --disabled-fill-color: #AAA;\n",
              "      --disabled-bg-color: #DDD;\n",
              "  }\n",
              "\n",
              "  [theme=dark] .colab-df-quickchart {\n",
              "      --bg-color: #3B4455;\n",
              "      --fill-color: #D2E3FC;\n",
              "      --hover-bg-color: #434B5C;\n",
              "      --hover-fill-color: #FFFFFF;\n",
              "      --disabled-bg-color: #3B4455;\n",
              "      --disabled-fill-color: #666;\n",
              "  }\n",
              "\n",
              "  .colab-df-quickchart {\n",
              "    background-color: var(--bg-color);\n",
              "    border: none;\n",
              "    border-radius: 50%;\n",
              "    cursor: pointer;\n",
              "    display: none;\n",
              "    fill: var(--fill-color);\n",
              "    height: 32px;\n",
              "    padding: 0;\n",
              "    width: 32px;\n",
              "  }\n",
              "\n",
              "  .colab-df-quickchart:hover {\n",
              "    background-color: var(--hover-bg-color);\n",
              "    box-shadow: 0 1px 2px rgba(60, 64, 67, 0.3), 0 1px 3px 1px rgba(60, 64, 67, 0.15);\n",
              "    fill: var(--button-hover-fill-color);\n",
              "  }\n",
              "\n",
              "  .colab-df-quickchart-complete:disabled,\n",
              "  .colab-df-quickchart-complete:disabled:hover {\n",
              "    background-color: var(--disabled-bg-color);\n",
              "    fill: var(--disabled-fill-color);\n",
              "    box-shadow: none;\n",
              "  }\n",
              "\n",
              "  .colab-df-spinner {\n",
              "    border: 2px solid var(--fill-color);\n",
              "    border-color: transparent;\n",
              "    border-bottom-color: var(--fill-color);\n",
              "    animation:\n",
              "      spin 1s steps(1) infinite;\n",
              "  }\n",
              "\n",
              "  @keyframes spin {\n",
              "    0% {\n",
              "      border-color: transparent;\n",
              "      border-bottom-color: var(--fill-color);\n",
              "      border-left-color: var(--fill-color);\n",
              "    }\n",
              "    20% {\n",
              "      border-color: transparent;\n",
              "      border-left-color: var(--fill-color);\n",
              "      border-top-color: var(--fill-color);\n",
              "    }\n",
              "    30% {\n",
              "      border-color: transparent;\n",
              "      border-left-color: var(--fill-color);\n",
              "      border-top-color: var(--fill-color);\n",
              "      border-right-color: var(--fill-color);\n",
              "    }\n",
              "    40% {\n",
              "      border-color: transparent;\n",
              "      border-right-color: var(--fill-color);\n",
              "      border-top-color: var(--fill-color);\n",
              "    }\n",
              "    60% {\n",
              "      border-color: transparent;\n",
              "      border-right-color: var(--fill-color);\n",
              "    }\n",
              "    80% {\n",
              "      border-color: transparent;\n",
              "      border-right-color: var(--fill-color);\n",
              "      border-bottom-color: var(--fill-color);\n",
              "    }\n",
              "    90% {\n",
              "      border-color: transparent;\n",
              "      border-bottom-color: var(--fill-color);\n",
              "    }\n",
              "  }\n",
              "</style>\n",
              "\n",
              "  <script>\n",
              "    async function quickchart(key) {\n",
              "      const quickchartButtonEl =\n",
              "        document.querySelector('#' + key + ' button');\n",
              "      quickchartButtonEl.disabled = true;  // To prevent multiple clicks.\n",
              "      quickchartButtonEl.classList.add('colab-df-spinner');\n",
              "      try {\n",
              "        const charts = await google.colab.kernel.invokeFunction(\n",
              "            'suggestCharts', [key], {});\n",
              "      } catch (error) {\n",
              "        console.error('Error during call to suggestCharts:', error);\n",
              "      }\n",
              "      quickchartButtonEl.classList.remove('colab-df-spinner');\n",
              "      quickchartButtonEl.classList.add('colab-df-quickchart-complete');\n",
              "    }\n",
              "    (() => {\n",
              "      let quickchartButtonEl =\n",
              "        document.querySelector('#df-30bfd608-5fc7-4978-b3ad-dafeaf19ad9c button');\n",
              "      quickchartButtonEl.style.display =\n",
              "        google.colab.kernel.accessAllowed ? 'block' : 'none';\n",
              "    })();\n",
              "  </script>\n",
              "</div>\n",
              "\n",
              "    </div>\n",
              "  </div>\n"
            ]
          },
          "metadata": {},
          "execution_count": 4
        }
      ]
    },
    {
      "cell_type": "markdown",
      "source": [
        "EXAMINE THE DATA SET"
      ],
      "metadata": {
        "id": "3MCgTZWOD1mh"
      }
    },
    {
      "cell_type": "code",
      "source": [
        "#check the info\n",
        "df.info()"
      ],
      "metadata": {
        "colab": {
          "base_uri": "https://localhost:8080/"
        },
        "id": "goy-vAr5EemG",
        "outputId": "105cb768-13f3-482d-d07f-8bf8b638703a"
      },
      "execution_count": 6,
      "outputs": [
        {
          "output_type": "stream",
          "name": "stdout",
          "text": [
            "<class 'pandas.core.frame.DataFrame'>\n",
            "RangeIndex: 10494 entries, 0 to 10493\n",
            "Data columns (total 21 columns):\n",
            " #   Column         Non-Null Count  Dtype  \n",
            "---  ------         --------------  -----  \n",
            " 0   Row ID         9947 non-null   float64\n",
            " 1   Order ID       10494 non-null  object \n",
            " 2   Order Date     10494 non-null  object \n",
            " 3   Ship Date      10494 non-null  object \n",
            " 4   Ship Mode      10494 non-null  object \n",
            " 5   Customer ID    10494 non-null  object \n",
            " 6   Customer Name  10494 non-null  object \n",
            " 7   Segment        10494 non-null  object \n",
            " 8   Country        10494 non-null  object \n",
            " 9   City           10494 non-null  object \n",
            " 10  State          10494 non-null  object \n",
            " 11  Postal Code    10016 non-null  float64\n",
            " 12  Region         10494 non-null  object \n",
            " 13  Product ID     10494 non-null  object \n",
            " 14  Category       10494 non-null  object \n",
            " 15  Sub-Category   10494 non-null  object \n",
            " 16  Product Name   10494 non-null  object \n",
            " 17  Sales          10009 non-null  float64\n",
            " 18  Quantity       9973 non-null   float64\n",
            " 19  Discount       9950 non-null   float64\n",
            " 20  Profit         9968 non-null   float64\n",
            "dtypes: float64(6), object(15)\n",
            "memory usage: 1.7+ MB\n"
          ]
        }
      ]
    },
    {
      "cell_type": "code",
      "source": [
        "#check for missing values\n",
        "df.isna().sum()"
      ],
      "metadata": {
        "colab": {
          "base_uri": "https://localhost:8080/"
        },
        "id": "SwohK9mUEM_5",
        "outputId": "0271e2fc-75ce-4fc0-c172-e6a82c99a014"
      },
      "execution_count": 5,
      "outputs": [
        {
          "output_type": "execute_result",
          "data": {
            "text/plain": [
              "Row ID           547\n",
              "Order ID           0\n",
              "Order Date         0\n",
              "Ship Date          0\n",
              "Ship Mode          0\n",
              "Customer ID        0\n",
              "Customer Name      0\n",
              "Segment            0\n",
              "Country            0\n",
              "City               0\n",
              "State              0\n",
              "Postal Code      478\n",
              "Region             0\n",
              "Product ID         0\n",
              "Category           0\n",
              "Sub-Category       0\n",
              "Product Name       0\n",
              "Sales            485\n",
              "Quantity         521\n",
              "Discount         544\n",
              "Profit           526\n",
              "dtype: int64"
            ]
          },
          "metadata": {},
          "execution_count": 5
        }
      ]
    },
    {
      "cell_type": "code",
      "source": [
        "df.columns"
      ],
      "metadata": {
        "colab": {
          "base_uri": "https://localhost:8080/"
        },
        "id": "B65ggjI7EuNK",
        "outputId": "3c5b4d99-d19a-45c2-cedf-057e13de8dc6"
      },
      "execution_count": 7,
      "outputs": [
        {
          "output_type": "execute_result",
          "data": {
            "text/plain": [
              "Index(['Row ID', 'Order ID', 'Order Date', 'Ship Date', 'Ship Mode',\n",
              "       'Customer ID', 'Customer Name', 'Segment', 'Country', 'City', 'State',\n",
              "       'Postal Code', 'Region', 'Product ID', 'Category', 'Sub-Category',\n",
              "       'Product Name', 'Sales', 'Quantity', 'Discount', 'Profit'],\n",
              "      dtype='object')"
            ]
          },
          "metadata": {},
          "execution_count": 7
        }
      ]
    },
    {
      "cell_type": "code",
      "source": [
        "df.describe()"
      ],
      "metadata": {
        "colab": {
          "base_uri": "https://localhost:8080/",
          "height": 300
        },
        "id": "7al3HrTfE0ar",
        "outputId": "0949a2bd-e948-47f5-c233-143b44a742be"
      },
      "execution_count": 8,
      "outputs": [
        {
          "output_type": "execute_result",
          "data": {
            "text/plain": [
              "            Row ID   Postal Code         Sales     Quantity     Discount  \\\n",
              "count  9947.000000  10016.000000  10009.000000  9973.000000  9950.000000   \n",
              "mean   5006.989243  55187.619010    231.144034     3.784318     0.156719   \n",
              "std    2886.294121  32075.339602    648.220346     2.220385     0.206783   \n",
              "min       1.000000   1040.000000      0.463876     1.000000     0.000000   \n",
              "25%    2509.500000  22980.000000     16.486152     2.000000     0.000000   \n",
              "50%    5005.000000  56301.000000     51.629822     3.000000     0.200000   \n",
              "75%    7507.500000  90008.000000    204.110649     5.000000     0.200000   \n",
              "max    9994.000000  99301.000000  19702.041161    14.000000     0.800000   \n",
              "\n",
              "            Profit  \n",
              "count  9968.000000  \n",
              "mean     29.350885  \n",
              "std     240.012177  \n",
              "min   -8333.164727  \n",
              "25%       1.539263  \n",
              "50%       8.105640  \n",
              "75%      28.524300  \n",
              "max    6697.267642  "
            ],
            "text/html": [
              "\n",
              "  <div id=\"df-eab09838-8e03-405e-86be-b0c2b3e13ab7\" class=\"colab-df-container\">\n",
              "    <div>\n",
              "<style scoped>\n",
              "    .dataframe tbody tr th:only-of-type {\n",
              "        vertical-align: middle;\n",
              "    }\n",
              "\n",
              "    .dataframe tbody tr th {\n",
              "        vertical-align: top;\n",
              "    }\n",
              "\n",
              "    .dataframe thead th {\n",
              "        text-align: right;\n",
              "    }\n",
              "</style>\n",
              "<table border=\"1\" class=\"dataframe\">\n",
              "  <thead>\n",
              "    <tr style=\"text-align: right;\">\n",
              "      <th></th>\n",
              "      <th>Row ID</th>\n",
              "      <th>Postal Code</th>\n",
              "      <th>Sales</th>\n",
              "      <th>Quantity</th>\n",
              "      <th>Discount</th>\n",
              "      <th>Profit</th>\n",
              "    </tr>\n",
              "  </thead>\n",
              "  <tbody>\n",
              "    <tr>\n",
              "      <th>count</th>\n",
              "      <td>9947.000000</td>\n",
              "      <td>10016.000000</td>\n",
              "      <td>10009.000000</td>\n",
              "      <td>9973.000000</td>\n",
              "      <td>9950.000000</td>\n",
              "      <td>9968.000000</td>\n",
              "    </tr>\n",
              "    <tr>\n",
              "      <th>mean</th>\n",
              "      <td>5006.989243</td>\n",
              "      <td>55187.619010</td>\n",
              "      <td>231.144034</td>\n",
              "      <td>3.784318</td>\n",
              "      <td>0.156719</td>\n",
              "      <td>29.350885</td>\n",
              "    </tr>\n",
              "    <tr>\n",
              "      <th>std</th>\n",
              "      <td>2886.294121</td>\n",
              "      <td>32075.339602</td>\n",
              "      <td>648.220346</td>\n",
              "      <td>2.220385</td>\n",
              "      <td>0.206783</td>\n",
              "      <td>240.012177</td>\n",
              "    </tr>\n",
              "    <tr>\n",
              "      <th>min</th>\n",
              "      <td>1.000000</td>\n",
              "      <td>1040.000000</td>\n",
              "      <td>0.463876</td>\n",
              "      <td>1.000000</td>\n",
              "      <td>0.000000</td>\n",
              "      <td>-8333.164727</td>\n",
              "    </tr>\n",
              "    <tr>\n",
              "      <th>25%</th>\n",
              "      <td>2509.500000</td>\n",
              "      <td>22980.000000</td>\n",
              "      <td>16.486152</td>\n",
              "      <td>2.000000</td>\n",
              "      <td>0.000000</td>\n",
              "      <td>1.539263</td>\n",
              "    </tr>\n",
              "    <tr>\n",
              "      <th>50%</th>\n",
              "      <td>5005.000000</td>\n",
              "      <td>56301.000000</td>\n",
              "      <td>51.629822</td>\n",
              "      <td>3.000000</td>\n",
              "      <td>0.200000</td>\n",
              "      <td>8.105640</td>\n",
              "    </tr>\n",
              "    <tr>\n",
              "      <th>75%</th>\n",
              "      <td>7507.500000</td>\n",
              "      <td>90008.000000</td>\n",
              "      <td>204.110649</td>\n",
              "      <td>5.000000</td>\n",
              "      <td>0.200000</td>\n",
              "      <td>28.524300</td>\n",
              "    </tr>\n",
              "    <tr>\n",
              "      <th>max</th>\n",
              "      <td>9994.000000</td>\n",
              "      <td>99301.000000</td>\n",
              "      <td>19702.041161</td>\n",
              "      <td>14.000000</td>\n",
              "      <td>0.800000</td>\n",
              "      <td>6697.267642</td>\n",
              "    </tr>\n",
              "  </tbody>\n",
              "</table>\n",
              "</div>\n",
              "    <div class=\"colab-df-buttons\">\n",
              "\n",
              "  <div class=\"colab-df-container\">\n",
              "    <button class=\"colab-df-convert\" onclick=\"convertToInteractive('df-eab09838-8e03-405e-86be-b0c2b3e13ab7')\"\n",
              "            title=\"Convert this dataframe to an interactive table.\"\n",
              "            style=\"display:none;\">\n",
              "\n",
              "  <svg xmlns=\"http://www.w3.org/2000/svg\" height=\"24px\" viewBox=\"0 -960 960 960\">\n",
              "    <path d=\"M120-120v-720h720v720H120Zm60-500h600v-160H180v160Zm220 220h160v-160H400v160Zm0 220h160v-160H400v160ZM180-400h160v-160H180v160Zm440 0h160v-160H620v160ZM180-180h160v-160H180v160Zm440 0h160v-160H620v160Z\"/>\n",
              "  </svg>\n",
              "    </button>\n",
              "\n",
              "  <style>\n",
              "    .colab-df-container {\n",
              "      display:flex;\n",
              "      gap: 12px;\n",
              "    }\n",
              "\n",
              "    .colab-df-convert {\n",
              "      background-color: #E8F0FE;\n",
              "      border: none;\n",
              "      border-radius: 50%;\n",
              "      cursor: pointer;\n",
              "      display: none;\n",
              "      fill: #1967D2;\n",
              "      height: 32px;\n",
              "      padding: 0 0 0 0;\n",
              "      width: 32px;\n",
              "    }\n",
              "\n",
              "    .colab-df-convert:hover {\n",
              "      background-color: #E2EBFA;\n",
              "      box-shadow: 0px 1px 2px rgba(60, 64, 67, 0.3), 0px 1px 3px 1px rgba(60, 64, 67, 0.15);\n",
              "      fill: #174EA6;\n",
              "    }\n",
              "\n",
              "    .colab-df-buttons div {\n",
              "      margin-bottom: 4px;\n",
              "    }\n",
              "\n",
              "    [theme=dark] .colab-df-convert {\n",
              "      background-color: #3B4455;\n",
              "      fill: #D2E3FC;\n",
              "    }\n",
              "\n",
              "    [theme=dark] .colab-df-convert:hover {\n",
              "      background-color: #434B5C;\n",
              "      box-shadow: 0px 1px 3px 1px rgba(0, 0, 0, 0.15);\n",
              "      filter: drop-shadow(0px 1px 2px rgba(0, 0, 0, 0.3));\n",
              "      fill: #FFFFFF;\n",
              "    }\n",
              "  </style>\n",
              "\n",
              "    <script>\n",
              "      const buttonEl =\n",
              "        document.querySelector('#df-eab09838-8e03-405e-86be-b0c2b3e13ab7 button.colab-df-convert');\n",
              "      buttonEl.style.display =\n",
              "        google.colab.kernel.accessAllowed ? 'block' : 'none';\n",
              "\n",
              "      async function convertToInteractive(key) {\n",
              "        const element = document.querySelector('#df-eab09838-8e03-405e-86be-b0c2b3e13ab7');\n",
              "        const dataTable =\n",
              "          await google.colab.kernel.invokeFunction('convertToInteractive',\n",
              "                                                    [key], {});\n",
              "        if (!dataTable) return;\n",
              "\n",
              "        const docLinkHtml = 'Like what you see? Visit the ' +\n",
              "          '<a target=\"_blank\" href=https://colab.research.google.com/notebooks/data_table.ipynb>data table notebook</a>'\n",
              "          + ' to learn more about interactive tables.';\n",
              "        element.innerHTML = '';\n",
              "        dataTable['output_type'] = 'display_data';\n",
              "        await google.colab.output.renderOutput(dataTable, element);\n",
              "        const docLink = document.createElement('div');\n",
              "        docLink.innerHTML = docLinkHtml;\n",
              "        element.appendChild(docLink);\n",
              "      }\n",
              "    </script>\n",
              "  </div>\n",
              "\n",
              "\n",
              "<div id=\"df-17776162-24f7-48dc-bd93-dcbe89d2a82a\">\n",
              "  <button class=\"colab-df-quickchart\" onclick=\"quickchart('df-17776162-24f7-48dc-bd93-dcbe89d2a82a')\"\n",
              "            title=\"Suggest charts\"\n",
              "            style=\"display:none;\">\n",
              "\n",
              "<svg xmlns=\"http://www.w3.org/2000/svg\" height=\"24px\"viewBox=\"0 0 24 24\"\n",
              "     width=\"24px\">\n",
              "    <g>\n",
              "        <path d=\"M19 3H5c-1.1 0-2 .9-2 2v14c0 1.1.9 2 2 2h14c1.1 0 2-.9 2-2V5c0-1.1-.9-2-2-2zM9 17H7v-7h2v7zm4 0h-2V7h2v10zm4 0h-2v-4h2v4z\"/>\n",
              "    </g>\n",
              "</svg>\n",
              "  </button>\n",
              "\n",
              "<style>\n",
              "  .colab-df-quickchart {\n",
              "      --bg-color: #E8F0FE;\n",
              "      --fill-color: #1967D2;\n",
              "      --hover-bg-color: #E2EBFA;\n",
              "      --hover-fill-color: #174EA6;\n",
              "      --disabled-fill-color: #AAA;\n",
              "      --disabled-bg-color: #DDD;\n",
              "  }\n",
              "\n",
              "  [theme=dark] .colab-df-quickchart {\n",
              "      --bg-color: #3B4455;\n",
              "      --fill-color: #D2E3FC;\n",
              "      --hover-bg-color: #434B5C;\n",
              "      --hover-fill-color: #FFFFFF;\n",
              "      --disabled-bg-color: #3B4455;\n",
              "      --disabled-fill-color: #666;\n",
              "  }\n",
              "\n",
              "  .colab-df-quickchart {\n",
              "    background-color: var(--bg-color);\n",
              "    border: none;\n",
              "    border-radius: 50%;\n",
              "    cursor: pointer;\n",
              "    display: none;\n",
              "    fill: var(--fill-color);\n",
              "    height: 32px;\n",
              "    padding: 0;\n",
              "    width: 32px;\n",
              "  }\n",
              "\n",
              "  .colab-df-quickchart:hover {\n",
              "    background-color: var(--hover-bg-color);\n",
              "    box-shadow: 0 1px 2px rgba(60, 64, 67, 0.3), 0 1px 3px 1px rgba(60, 64, 67, 0.15);\n",
              "    fill: var(--button-hover-fill-color);\n",
              "  }\n",
              "\n",
              "  .colab-df-quickchart-complete:disabled,\n",
              "  .colab-df-quickchart-complete:disabled:hover {\n",
              "    background-color: var(--disabled-bg-color);\n",
              "    fill: var(--disabled-fill-color);\n",
              "    box-shadow: none;\n",
              "  }\n",
              "\n",
              "  .colab-df-spinner {\n",
              "    border: 2px solid var(--fill-color);\n",
              "    border-color: transparent;\n",
              "    border-bottom-color: var(--fill-color);\n",
              "    animation:\n",
              "      spin 1s steps(1) infinite;\n",
              "  }\n",
              "\n",
              "  @keyframes spin {\n",
              "    0% {\n",
              "      border-color: transparent;\n",
              "      border-bottom-color: var(--fill-color);\n",
              "      border-left-color: var(--fill-color);\n",
              "    }\n",
              "    20% {\n",
              "      border-color: transparent;\n",
              "      border-left-color: var(--fill-color);\n",
              "      border-top-color: var(--fill-color);\n",
              "    }\n",
              "    30% {\n",
              "      border-color: transparent;\n",
              "      border-left-color: var(--fill-color);\n",
              "      border-top-color: var(--fill-color);\n",
              "      border-right-color: var(--fill-color);\n",
              "    }\n",
              "    40% {\n",
              "      border-color: transparent;\n",
              "      border-right-color: var(--fill-color);\n",
              "      border-top-color: var(--fill-color);\n",
              "    }\n",
              "    60% {\n",
              "      border-color: transparent;\n",
              "      border-right-color: var(--fill-color);\n",
              "    }\n",
              "    80% {\n",
              "      border-color: transparent;\n",
              "      border-right-color: var(--fill-color);\n",
              "      border-bottom-color: var(--fill-color);\n",
              "    }\n",
              "    90% {\n",
              "      border-color: transparent;\n",
              "      border-bottom-color: var(--fill-color);\n",
              "    }\n",
              "  }\n",
              "</style>\n",
              "\n",
              "  <script>\n",
              "    async function quickchart(key) {\n",
              "      const quickchartButtonEl =\n",
              "        document.querySelector('#' + key + ' button');\n",
              "      quickchartButtonEl.disabled = true;  // To prevent multiple clicks.\n",
              "      quickchartButtonEl.classList.add('colab-df-spinner');\n",
              "      try {\n",
              "        const charts = await google.colab.kernel.invokeFunction(\n",
              "            'suggestCharts', [key], {});\n",
              "      } catch (error) {\n",
              "        console.error('Error during call to suggestCharts:', error);\n",
              "      }\n",
              "      quickchartButtonEl.classList.remove('colab-df-spinner');\n",
              "      quickchartButtonEl.classList.add('colab-df-quickchart-complete');\n",
              "    }\n",
              "    (() => {\n",
              "      let quickchartButtonEl =\n",
              "        document.querySelector('#df-17776162-24f7-48dc-bd93-dcbe89d2a82a button');\n",
              "      quickchartButtonEl.style.display =\n",
              "        google.colab.kernel.accessAllowed ? 'block' : 'none';\n",
              "    })();\n",
              "  </script>\n",
              "</div>\n",
              "\n",
              "    </div>\n",
              "  </div>\n"
            ]
          },
          "metadata": {},
          "execution_count": 8
        }
      ]
    },
    {
      "cell_type": "markdown",
      "source": [
        "Data Wrangling/ data cleaning"
      ],
      "metadata": {
        "id": "SxB-eLM2E8rl"
      }
    },
    {
      "cell_type": "code",
      "source": [
        "df.isna().sum()"
      ],
      "metadata": {
        "colab": {
          "base_uri": "https://localhost:8080/"
        },
        "id": "dWs7sVAyE7B2",
        "outputId": "0dbe85a8-21c6-40f7-90d7-683b20ad48d7"
      },
      "execution_count": 9,
      "outputs": [
        {
          "output_type": "execute_result",
          "data": {
            "text/plain": [
              "Row ID           547\n",
              "Order ID           0\n",
              "Order Date         0\n",
              "Ship Date          0\n",
              "Ship Mode          0\n",
              "Customer ID        0\n",
              "Customer Name      0\n",
              "Segment            0\n",
              "Country            0\n",
              "City               0\n",
              "State              0\n",
              "Postal Code      478\n",
              "Region             0\n",
              "Product ID         0\n",
              "Category           0\n",
              "Sub-Category       0\n",
              "Product Name       0\n",
              "Sales            485\n",
              "Quantity         521\n",
              "Discount         544\n",
              "Profit           526\n",
              "dtype: int64"
            ]
          },
          "metadata": {},
          "execution_count": 9
        }
      ]
    },
    {
      "cell_type": "code",
      "source": [
        "# Visualize the null values\n",
        "sns.heatmap(df.isnull(), yticklabels=False, cbar=False)\n",
        "plt.title(\"Heatmap of missing values\")"
      ],
      "metadata": {
        "colab": {
          "base_uri": "https://localhost:8080/",
          "height": 568
        },
        "id": "RfzqFZGZFIrO",
        "outputId": "7527c650-e3e0-486f-8995-20f9b60fae57"
      },
      "execution_count": 10,
      "outputs": [
        {
          "output_type": "execute_result",
          "data": {
            "text/plain": [
              "Text(0.5, 1.0, 'Heatmap of missing values')"
            ]
          },
          "metadata": {},
          "execution_count": 10
        },
        {
          "output_type": "display_data",
          "data": {
            "text/plain": [
              "<Figure size 640x480 with 1 Axes>"
            ],
            "image/png": "[encoded data removed]"
          },
          "metadata": {}
        }
      ]
    },
    {
      "cell_type": "code",
      "source": [
        "#check for duplicate values\n",
        "df.duplicated().sum()"
      ],
      "metadata": {
        "colab": {
          "base_uri": "https://localhost:8080/"
        },
        "id": "Zj1hlHXLFsG7",
        "outputId": "f2c9f9e0-9125-4049-a8cf-e8869049fc9e"
      },
      "execution_count": 15,
      "outputs": [
        {
          "output_type": "execute_result",
          "data": {
            "text/plain": [
              "500"
            ]
          },
          "metadata": {},
          "execution_count": 15
        }
      ]
    },
    {
      "cell_type": "code",
      "source": [
        "# Correct the column names\n",
        "df.columns = df.columns.str.strip()\n",
        "df.columns = df.columns.str.lower()\n",
        "df.columns = df.columns.str.replace(' ', '_', regex=False)"
      ],
      "metadata": {
        "id": "t_K400yxFTnO"
      },
      "execution_count": 11,
      "outputs": []
    },
    {
      "cell_type": "code",
      "source": [
        "#checking if the columns have been standardised\n",
        "df.info()"
      ],
      "metadata": {
        "colab": {
          "base_uri": "https://localhost:8080/"
        },
        "id": "q4-6e3dSFaHo",
        "outputId": "1a402a26-f299-48db-a91e-edb6be473a5f"
      },
      "execution_count": 12,
      "outputs": [
        {
          "output_type": "stream",
          "name": "stdout",
          "text": [
            "<class 'pandas.core.frame.DataFrame'>\n",
            "RangeIndex: 10494 entries, 0 to 10493\n",
            "Data columns (total 21 columns):\n",
            " #   Column         Non-Null Count  Dtype  \n",
            "---  ------         --------------  -----  \n",
            " 0   row_id         9947 non-null   float64\n",
            " 1   order_id       10494 non-null  object \n",
            " 2   order_date     10494 non-null  object \n",
            " 3   ship_date      10494 non-null  object \n",
            " 4   ship_mode      10494 non-null  object \n",
            " 5   customer_id    10494 non-null  object \n",
            " 6   customer_name  10494 non-null  object \n",
            " 7   segment        10494 non-null  object \n",
            " 8   country        10494 non-null  object \n",
            " 9   city           10494 non-null  object \n",
            " 10  state          10494 non-null  object \n",
            " 11  postal_code    10016 non-null  float64\n",
            " 12  region         10494 non-null  object \n",
            " 13  product_id     10494 non-null  object \n",
            " 14  category       10494 non-null  object \n",
            " 15  sub-category   10494 non-null  object \n",
            " 16  product_name   10494 non-null  object \n",
            " 17  sales          10009 non-null  float64\n",
            " 18  quantity       9973 non-null   float64\n",
            " 19  discount       9950 non-null   float64\n",
            " 20  profit         9968 non-null   float64\n",
            "dtypes: float64(6), object(15)\n",
            "memory usage: 1.7+ MB\n"
          ]
        }
      ]
    },
    {
      "cell_type": "code",
      "source": [
        "df.nunique()"
      ],
      "metadata": {
        "colab": {
          "base_uri": "https://localhost:8080/"
        },
        "id": "mFQMkI20Ir36",
        "outputId": "9094baea-9c5d-49f8-d63d-54810a9e5cc9"
      },
      "execution_count": 16,
      "outputs": [
        {
          "output_type": "execute_result",
          "data": {
            "text/plain": [
              "row_id           9473\n",
              "order_id         5385\n",
              "order_date       1704\n",
              "ship_date        1810\n",
              "ship_mode         366\n",
              "customer_id      1268\n",
              "customer_name    1271\n",
              "segment           323\n",
              "country           261\n",
              "city              990\n",
              "state             479\n",
              "postal_code       630\n",
              "region            302\n",
              "product_id       2355\n",
              "category          382\n",
              "sub-category      456\n",
              "product_name     2370\n",
              "sales            9530\n",
              "quantity           14\n",
              "discount           12\n",
              "profit           9435\n",
              "dtype: int64"
            ]
          },
          "metadata": {},
          "execution_count": 16
        }
      ]
    },
    {
      "cell_type": "code",
      "source": [
        "df['category'].value_counts()"
      ],
      "metadata": {
        "colab": {
          "base_uri": "https://localhost:8080/"
        },
        "id": "b0nY-TvKKmXy",
        "outputId": "1f656876-e837-4d33-83f8-2e31198e176d"
      },
      "execution_count": 21,
      "outputs": [
        {
          "output_type": "execute_result",
          "data": {
            "text/plain": [
              "Office Supplies    5998\n",
              "Furniture          2130\n",
              "Technology         1845\n",
              "Osfice Supplies       5\n",
              "Office Supplves       4\n",
              "                   ... \n",
              "Office Suptlies       1\n",
              "Office Supplixs       1\n",
              "Tzchnology            1\n",
              "Offsce Supplies       1\n",
              "Furniwure             1\n",
              "Name: category, Length: 382, dtype: int64"
            ]
          },
          "metadata": {},
          "execution_count": 21
        }
      ]
    },
    {
      "cell_type": "code",
      "source": [
        "#replacing the incorrectly spelt catergory in the category column\n",
        "df['category'].replace({'Office Supplves ':'Office Supplies','Osfice Supplies':'Office Supplies','Office Suptlies':'Office Supplies','Office Supplixs':'Office Supplies','Offsce Supplies':'Office Supplies','Tzchnology':'Technology','Furniwure':'Furniture','Tzchnology':'Technology','Tejhnology':'Technology','Technohogy':'Technology','Tzchnology':'Technology', 'kechnology':'Technology','Office Smpplies':'Office Supplies','Office Suppliem ':'Office Supplies','Furnqture':'Furniture' , },inplace=True)"
      ],
      "metadata": {
        "id": "JuzQIp_YLMwS"
      },
      "execution_count": 24,
      "outputs": []
    },
    {
      "cell_type": "code",
      "source": [
        "df['category'].value_counts()"
      ],
      "metadata": {
        "colab": {
          "base_uri": "https://localhost:8080/"
        },
        "id": "uKTzup7kMokS",
        "outputId": "3c393574-9620-448e-d36b-4e5c882aef3b"
      },
      "execution_count": 25,
      "outputs": [
        {
          "output_type": "execute_result",
          "data": {
            "text/plain": [
              "Office Supplies    6007\n",
              "Furniture          2135\n",
              "Technology         1849\n",
              "Office Suppliem       4\n",
              "Office Supplves       4\n",
              "                   ... \n",
              "Techxology            1\n",
              "Oafice Supplies       1\n",
              "Office Suppiies       1\n",
              "Technologn            1\n",
              "Furndture             1\n",
              "Name: category, Length: 371, dtype: int64"
            ]
          },
          "metadata": {},
          "execution_count": 25
        }
      ]
    },
    {
      "cell_type": "code",
      "source": [
        "contents =df['category']"
      ],
      "metadata": {
        "id": "-xRgRDTSPFWT"
      },
      "execution_count": 26,
      "outputs": []
    },
    {
      "cell_type": "code",
      "source": [
        "print(contents)"
      ],
      "metadata": {
        "colab": {
          "base_uri": "https://localhost:8080/"
        },
        "id": "Rb6kDoYEPKgz",
        "outputId": "d804576a-e1c8-4ef2-9eb1-17383d882cb4"
      },
      "execution_count": 27,
      "outputs": [
        {
          "output_type": "stream",
          "name": "stdout",
          "text": [
            "0              Furniture\n",
            "1              Furniture\n",
            "2        Office Supplies\n",
            "3              Furniture\n",
            "4        Office Supplies\n",
            "              ...       \n",
            "10489    Office Supplies\n",
            "10490    Office Supplies\n",
            "10491    Office Supplies\n",
            "10492          Furniture\n",
            "10493          Furniture\n",
            "Name: category, Length: 10494, dtype: object\n"
          ]
        }
      ]
    },
    {
      "cell_type": "code",
      "source": [
        "pip install fuzzywuzzy\n"
      ],
      "metadata": {
        "colab": {
          "base_uri": "https://localhost:8080/"
        },
        "id": "G4jFv2dyWEug",
        "outputId": "a07c999d-10d9-46e9-9f64-fa60b4fd70fd"
      },
      "execution_count": 28,
      "outputs": [
        {
          "output_type": "stream",
          "name": "stdout",
          "text": [
            "Collecting fuzzywuzzy\n",
            "  Downloading fuzzywuzzy-0.18.0-py2.py3-none-any.whl (18 kB)\n",
            "Installing collected packages: fuzzywuzzy\n",
            "Successfully installed fuzzywuzzy-0.18.0\n"
          ]
        }
      ]
    },
    {
      "cell_type": "code",
      "source": [
        "from fuzzywuzzy import process\n",
        "\n",
        "correct_categories = [\"Office Supplies\", \"Furniture\", \"Technology\"]\n",
        "df['category'] = df['category'].apply(lambda x: process.extractOne(x, correct_categories)[0])\n"
      ],
      "metadata": {
        "colab": {
          "base_uri": "https://localhost:8080/"
        },
        "id": "7mi4RCo0WNGi",
        "outputId": "101633ae-9caf-4238-a880-b925c9bc6c3e"
      },
      "execution_count": 29,
      "outputs": [
        {
          "output_type": "stream",
          "name": "stderr",
          "text": [
            "/usr/local/lib/python3.10/dist-packages/fuzzywuzzy/fuzz.py:11: UserWarning: Using slow pure-python SequenceMatcher. Install python-Levenshtein to remove this warning\n",
            "  warnings.warn('Using slow pure-python SequenceMatcher. Install python-Levenshtein to remove this warning')\n"
          ]
        }
      ]
    },
    {
      "cell_type": "code",
      "source": [
        "df['category'].value_counts()"
      ],
      "metadata": {
        "colab": {
          "base_uri": "https://localhost:8080/"
        },
        "id": "5mZzKQEoWhQC",
        "outputId": "b82355dc-7828-4fad-d29e-0555ffcb7956"
      },
      "execution_count": 30,
      "outputs": [
        {
          "output_type": "execute_result",
          "data": {
            "text/plain": [
              "Office Supplies    6309\n",
              "Furniture          2247\n",
              "Technology         1938\n",
              "Name: category, dtype: int64"
            ]
          },
          "metadata": {},
          "execution_count": 30
        }
      ]
    },
    {
      "cell_type": "markdown",
      "source": [
        "Cleaning the segment column\n"
      ],
      "metadata": {
        "id": "cYPfIDRZW-9k"
      }
    },
    {
      "cell_type": "code",
      "source": [
        "df['segment'].value_counts()"
      ],
      "metadata": {
        "colab": {
          "base_uri": "https://localhost:8080/"
        },
        "id": "M4DIpsKkXV-T",
        "outputId": "55c946fe-8c70-4a16-f9aa-d85697471d11"
      },
      "execution_count": 31,
      "outputs": [
        {
          "output_type": "execute_result",
          "data": {
            "text/plain": [
              "Consumer       5183\n",
              "Corporate      3012\n",
              "Home Office    1773\n",
              "Coxsumer          8\n",
              "Copsumer          7\n",
              "               ... \n",
              "Corsorate         1\n",
              "consumer          1\n",
              "Hoge Office       1\n",
              "Corporaue         1\n",
              "Home Offyce       1\n",
              "Name: segment, Length: 323, dtype: int64"
            ]
          },
          "metadata": {},
          "execution_count": 31
        }
      ]
    },
    {
      "cell_type": "code",
      "source": [
        "from fuzzywuzzy import process\n",
        "\n",
        "correct_categories = [\"Consumer\", \"Corporate\", \"Home Office\"]\n",
        "df['segment'] = df['segment'].apply(lambda x: process.extractOne(x, correct_categories)[0])"
      ],
      "metadata": {
        "id": "HZ5S5Sd2W9hJ"
      },
      "execution_count": 32,
      "outputs": []
    },
    {
      "cell_type": "code",
      "source": [
        "df['segment'].value_counts()"
      ],
      "metadata": {
        "colab": {
          "base_uri": "https://localhost:8080/"
        },
        "id": "uOO8my0rXpdV",
        "outputId": "5cc0d374-5679-49f3-d2d1-3a4cb86e601c"
      },
      "execution_count": 33,
      "outputs": [
        {
          "output_type": "execute_result",
          "data": {
            "text/plain": [
              "Consumer       5458\n",
              "Corporate      3174\n",
              "Home Office    1862\n",
              "Name: segment, dtype: int64"
            ]
          },
          "metadata": {},
          "execution_count": 33
        }
      ]
    },
    {
      "cell_type": "markdown",
      "source": [
        "Cleaning ship mode column"
      ],
      "metadata": {
        "id": "0Yw6YwrxYXSV"
      }
    },
    {
      "cell_type": "code",
      "source": [
        "df['ship_mode'].value_counts()"
      ],
      "metadata": {
        "colab": {
          "base_uri": "https://localhost:8080/"
        },
        "id": "Fn7H7ZEoYAr5",
        "outputId": "1ad10f69-448f-4445-8177-4bd6c9862884"
      },
      "execution_count": 39,
      "outputs": [
        {
          "output_type": "execute_result",
          "data": {
            "text/plain": [
              "Standard Class    5944\n",
              "Second Class      1964\n",
              "First Class       1536\n",
              "Same Day           543\n",
              "Sqandard Class       5\n",
              "                  ... \n",
              "Stajdard Class       1\n",
              "Standard xlass       1\n",
              "Fwrst Class          1\n",
              "Stvndard Class       1\n",
              "Seclnd Class         1\n",
              "Name: ship_mode, Length: 366, dtype: int64"
            ]
          },
          "metadata": {},
          "execution_count": 39
        }
      ]
    },
    {
      "cell_type": "code",
      "source": [
        "from fuzzywuzzy import process\n",
        "\n",
        "correct_shipmode = [\"Standard Class\", \"Second Class\", \"First Classy\",\"Same Day\"]\n",
        "df['ship_mode'] = df['ship_mode'].apply(lambda x: process.extractOne(x, correct_shipmode)[0])"
      ],
      "metadata": {
        "id": "wfYXucviZoYU"
      },
      "execution_count": 40,
      "outputs": []
    },
    {
      "cell_type": "code",
      "source": [
        "df['ship_mode'].value_counts()"
      ],
      "metadata": {
        "colab": {
          "base_uri": "https://localhost:8080/"
        },
        "id": "2LwrOyt5aN9y",
        "outputId": "2b0fdb9d-b6e2-4851-dcef-7f8626ec29c4"
      },
      "execution_count": 41,
      "outputs": [
        {
          "output_type": "execute_result",
          "data": {
            "text/plain": [
              "Standard Class    6260\n",
              "Second Class      2053\n",
              "First Classy      1617\n",
              "Same Day           564\n",
              "Name: ship_mode, dtype: int64"
            ]
          },
          "metadata": {},
          "execution_count": 41
        }
      ]
    },
    {
      "cell_type": "markdown",
      "source": [
        "Cleaning the country coloum"
      ],
      "metadata": {
        "id": "UNd9NWo-auwp"
      }
    },
    {
      "cell_type": "code",
      "source": [
        "df['country'].value_counts()"
      ],
      "metadata": {
        "colab": {
          "base_uri": "https://localhost:8080/"
        },
        "id": "lLouc-jRauXf",
        "outputId": "e998c8f3-c7f6-4143-c244-510307ab80b9"
      },
      "execution_count": 42,
      "outputs": [
        {
          "output_type": "execute_result",
          "data": {
            "text/plain": [
              "United States    9937\n",
              "UnitedcStates       6\n",
              "United Staees       6\n",
              "United Statez       5\n",
              "Ukited States       5\n",
              "                 ... \n",
              "United xtates       1\n",
              "United Stntes       1\n",
              "Unitel States       1\n",
              "United Stateq       1\n",
              "United Stites       1\n",
              "Name: country, Length: 261, dtype: int64"
            ]
          },
          "metadata": {},
          "execution_count": 42
        }
      ]
    },
    {
      "cell_type": "code",
      "source": [
        "correct_country = [\"United States\"]\n",
        "df['country'] = df['country'].apply(lambda x: process.extractOne(x, correct_country)[0])"
      ],
      "metadata": {
        "id": "oyynzYWpbUnb"
      },
      "execution_count": 43,
      "outputs": []
    },
    {
      "cell_type": "code",
      "source": [
        "df['country'].value_counts()"
      ],
      "metadata": {
        "colab": {
          "base_uri": "https://localhost:8080/"
        },
        "id": "apjLgs3ebtVC",
        "outputId": "a5faa6d8-edef-450c-b99a-f04e2c38bf70"
      },
      "execution_count": 44,
      "outputs": [
        {
          "output_type": "execute_result",
          "data": {
            "text/plain": [
              "United States    10494\n",
              "Name: country, dtype: int64"
            ]
          },
          "metadata": {},
          "execution_count": 44
        }
      ]
    },
    {
      "cell_type": "markdown",
      "source": [
        "Cleaning the city column"
      ],
      "metadata": {
        "id": "WVLbk-9Ab_Dj"
      }
    },
    {
      "cell_type": "code",
      "source": [
        "df['city'].unique()"
      ],
      "metadata": {
        "colab": {
          "base_uri": "https://localhost:8080/"
        },
        "id": "AvGFbKxGcjRL",
        "outputId": "8e82439a-0307-4c47-d202-b2361e7d95fc"
      },
      "execution_count": 46,
      "outputs": [
        {
          "output_type": "execute_result",
          "data": {
            "text/plain": [
              "array(['Henderson', 'Los Angeles', 'Fort Lauderdale', 'Concord',\n",
              "       'Seattle', 'Fort Worth', 'Mavison', 'West Joodan', 'San Francisco',\n",
              "       'Fremont', 'Philadelphia', 'Orem', 'Philadqlphia', 'Houston',\n",
              "       'Richardson', 'Naperville', 'Melbourne', 'Eagan', 'Westland',\n",
              "       'Dover', 'Dovpr', 'New klbany', 'New Albany', 'New York City',\n",
              "       'Troy', 'Chicago', 'Gilbert', 'Springfield', 'Jackson', 'Memphis',\n",
              "       'Houstbn', 'Decatur', 'San Fnancisco', 'Durham', 'Columbia',\n",
              "       'Rochester', 'Minneapolis', 'Portland', 'Saint Paul', 'Chicagx',\n",
              "       'Aurora', 'Charlotte', 'Orland Park', 'Urbandale', 'Columbus',\n",
              "       'Bristol', 'Wilmington', 'Bloomington', 'Phoenix', 'Columpus',\n",
              "       'Roseville', 'Independence', 'Pwsadena', 'Newark', 'Franklin',\n",
              "       'Scottsdale', 'San Jose', 'Edmond', 'Phwladelphia', 'Carlsbad',\n",
              "       'San Antonio', 'Monroe', 'Fairfield', 'Grand Prairie', 'Redlands',\n",
              "       'Hamilton', 'Westfield', 'Akron', 'Denver', 'Dallas', 'Whittier',\n",
              "       'Saginaw', 'Sfginaw', 'Medina', 'Dublin', 'cublin', 'Detroit',\n",
              "       'Tampa', 'Santa Clara', 'dhicago', 'Lakeville', 'San Diego',\n",
              "       'ehicago', 'Ned York City', 'Pasadena', 'Hfuston', 'Brentwood',\n",
              "       'Chapel uill', 'Morristown', 'Cincinnati', 'Inglewood', 'Portlnnd',\n",
              "       'Tamarac', 'Colorado Springs', 'Belleville', 'New York Cimy',\n",
              "       'Taylor', 'Lakewood', 'Lakenood', 'Arlington', 'Arvada',\n",
              "       'Hackensack', 'Saint Petersburg', 'Neq York City', 'Long Beach',\n",
              "       'Hesperia', 'Murfreesboro', 'Layton', 'Austin', 'Lowell',\n",
              "       'Manvhester', 'Manchester', 'Harlingen', 'Tuclon', 'Tucson',\n",
              "       'Tucsom', 'Quincy', 'Housnon', 'Pembroke Pines', 'Philadelphip',\n",
              "       'Njw York City', 'Des Moines', 'Peoria', 'Las Vegas', 'Warwick',\n",
              "       'Wardick', 'Hoeston', 'Miami', 'Huntington Beach', 'Richmond',\n",
              "       'Louisville', 'Lawrence', 'aawrence', 'Canton', 'New Rochelle',\n",
              "       'Gastonia', 'Jacksonville', 'Auburn', 'Norman', 'Park Ridge',\n",
              "       'Amarillo', 'Lindenhurst', 'Huntsville', 'Fayetteville',\n",
              "       'Costa Mesa', 'Parker', 'Atlanta', 'Gladstone', 'Great Falls',\n",
              "       'Lakeland', 'Los Angelew', 'Montgomery', 'Mesa', 'Green Bay',\n",
              "       'Anaheim', 'New bork City', 'Marysville', 'Chfcago', 'Sjlem',\n",
              "       'Salem', 'Laredo', 'Philadelpqia', 'Grove City', 'Dearborn',\n",
              "       'New York Ciuy', 'San Franmisco', 'Warner Robins', 'Vallejo',\n",
              "       'Mission Viejo', 'Rochester Hills', 'Plainfielr', 'Sierra Vista',\n",
              "       'Vancouver', 'Aurorr', 'Arlongton', 'Cleveland', 'Tyler',\n",
              "       'Burlington', 'Waynesboro', 'Chester', 'Cary', 'Palm Coast',\n",
              "       'Mount Vernon', 'iount Vernon', 'Hialeah', 'Oceanside', 'Evanston',\n",
              "       'Trenjon', 'Trenton', 'San Frascisco', 'Cottage Grove',\n",
              "       'Bossier City', 'Des Mgines', 'Lancaster', 'Asheville',\n",
              "       'Lake Elsinore', 'Denher', 'Omaha', 'Edmonds', 'Santa Ana',\n",
              "       'Milwaukee', 'Florence', 'Lorain', 'Linden', 'Salinas',\n",
              "       'New Brunswick', 'Phiwadelphia', 'Garland', 'Norwich',\n",
              "       'Alexandria', 'Toledo', 'Farmington', 'Riverside', 'Torrance',\n",
              "       'Round Rock', 'Boca Raton', 'New YorkaCity', 'Louisvillv',\n",
              "       'Pasanena', 'Virginia Beach', 'Murrieta', 'Smn Diego', 'Olympia',\n",
              "       'Washington', 'Hackenseck', 'Jefferson City', 'Saint Peters',\n",
              "       'Rockford', 'Brownsville', 'neattle', 'Serttle', 'Yonkers',\n",
              "       'Oakland', 'San Diigo', 'Clinton', 'Encinitas', 'Roswell',\n",
              "       'Jonesboro', 'Springfseld', 'Antioch', 'Homestead', 'La Porte',\n",
              "       'Los Angples', 'Lansing', 'tansing', 'Cuyahoga Falls', 'Reno',\n",
              "       'Harrisonburg', 'Escondido', 'New Yoek City', 'Royal Oak',\n",
              "       'Rockville', 'Los wngeles', 'Coral Springs', 'Philadelplia',\n",
              "       'Philadellhia', 'New York Citb', 'Buffalo', 'Boynton Beach',\n",
              "       'Seatcle', 'Gulfport', 'Fresno', 'New Yomk City', 'Chtster',\n",
              "       'Chesber', 'Greenville', 'Macon', 'Cedar Rapids', 'Providence',\n",
              "       'Pueblo', 'San Franciscr', 'Papadena', 'chiladelphia', 'Deltona',\n",
              "       'Murray', 'Lawrencw', 'Chicwgo', 'Los Angelss', 'Middletown',\n",
              "       'Freeport', 'Pico Rivera', 'Provo', 'Pleasant Grove', 'Smyrna',\n",
              "       'Parma', 'Mobile', 'Mobiwe', 'Columwus', 'New Bedford', 'Irving',\n",
              "       'Vineland', 'Glendale', 'Niagasa Falls', 'Niagara Falls',\n",
              "       'Thomasville', 'Westminster', 'Coppell', 'Pomona',\n",
              "       'North Las Vegas', 'Allentown', 'Tempe', 'Laguna Niguel',\n",
              "       'Bridgeton', 'Everett', 'San Diegw', 'Watertown', 'Appleton',\n",
              "       'Bellevue', 'Allen', 'El Paso', 'few York City', 'Grapevine',\n",
              "       'Carrollton', 'oagan', 'Eagar', 'Kent', 'Lafayette', 'Tigard',\n",
              "       'Washingtoz', 'Skokie', 'heattle', 'Seahtle', 'Dallah', 'Plano',\n",
              "       'Suffolk', 'Hruston', 'SanmFrancisco', 'xndianapolis',\n",
              "       'Indianapolis', 'Bayonne', 'New York Ciky', 'Svn Francisco',\n",
              "       'zallas', 'sacksonville', 'Jacksonviule', 'Scn Francisco',\n",
              "       'Greensboro', 'Baltimore', 'Kenosha', 'Madison', 'Madibon',\n",
              "       'Olathe', 'Nen York City', 'Tulsa', 'Chicrgo', 'Redmond',\n",
              "       'Raleigh', 'Macfn', 'Muskogee', 'Meriden', 'Roswxll',\n",
              "       'Bowling Green', 'South Bend', 'Soulh Bend', 'Philadelpoia',\n",
              "       'Spokana', 'Columjus', 'Keller', 'Port Orange', 'Medford',\n",
              "       'Charlottesville', 'Missoula', 'Apopka', 'Roswelu', 'Reading',\n",
              "       'Sehttle', 'Seattoe', 'Broomfield', 'Paterson', 'Montgomegy',\n",
              "       'Gleneale', 'Oklahoma City', 'Springfceld', 'Chesapeake',\n",
              "       'Lubbock', 'Johnson Citl', 'Johnson City', 'Auburk',\n",
              "       'San Bernardino', 'San xernardino', 'Leominster', 'Bozeman',\n",
              "       'Perth Amboy', 'Richfond', 'Loo Angeles', 'Ontario',\n",
              "       'New York Crty', 'Rancho Czcamonga', 'Moorhead', 'Mesquitu',\n",
              "       'Stockton', 'Ormond Beach', 'Sunnyvale', 'Dsver', 'York',\n",
              "       'College Station', 'Saint Louis', 'qos Angeles', 'Manteca',\n",
              "       'San Angelo', 'Salt Lake City', 'New York gity', 'Knoxville',\n",
              "       'Philacelphia', 'Little Rock', 'Liltle Rock', 'Seottle',\n",
              "       'Lincoln Park', 'Jadksonville', 'Marion', 'Littleton',\n",
              "       'Indianapglis', 'Bangor', 'Atlantv', 'Southaven', 'New Castle',\n",
              "       'Los Angelxs', 'Midland', 'reoria', 'Ploria', 'Sioux Falls',\n",
              "       'Fort Collins', 'Clarksville', 'San Antonia', 'Sacramento',\n",
              "       'Thousand Oaks', 'Fiesno', 'Malden', 'Philadilphia', 'Holyoke',\n",
              "       'Albuquerque', 'Sparks', 'Coachella', 'Elmhurst', 'Arlinguon',\n",
              "       'Passaic', 'North Charleston', 'Plainfield', 'Newport News',\n",
              "       'Jamestown', 'Mishawaka', 'van Francisco', 'mhicago',\n",
              "       'Fori Lauderdale', 'La Quinta', 'Tallahassee', 'Nashville',\n",
              "       'Bellingham', 'Woodstock', 'Alexdndria', 'Haltom City', 'Wheeling',\n",
              "       'Summerville', 'San Franccsco', 'Sad Francisco', 'New York Cety',\n",
              "       'Hot Springs', 'Gilbyrt', 'Lrs Angeles', 'Jacksod', 'Englewood',\n",
              "       'Sgattle', 'Los Angelep', 'New York Citw', 'Las Cruces', 'Hoover',\n",
              "       'Homver', 'Frisco', 'Vacavylle', 'Waukesha', 'Bakersfield',\n",
              "       'Pompano Beach', 'Corpus Chrnsti', 'Corpus Christi',\n",
              "       'Redondo Beach', 'Redondo Bealh', 'Encinibas', 'Orlando',\n",
              "       'San Dihgo', 'Orange', 'Septtle', 'Lake Charles', 'Highland Park',\n",
              "       'Highland Para', 'Hempstead', 'Noblesville', 'Apple Valley',\n",
              "       'Burliqgton', 'San qiego', 'Mount Pleasant', 'Sterling Heights',\n",
              "       'Eau Claire', 'Rancho Cucamonga', 'Murday', 'Pharr', 'West Jordan',\n",
              "       'Billings', 'Gresham', 'Chattanooga', 'Meridian', 'Detroxt',\n",
              "       'upple Valley', 'Bolingbrook', 'Fort Wozth', 'kew York City',\n",
              "       'Dbllas', 'Austiu', 'Maple Grove', 'Glenxale', 'Jacksonvglle',\n",
              "       'Copumbia', 'Woodland', 'Missouri City', 'Pearland', 'San Mateo',\n",
              "       'Sfattle', 'Grand Rapids', 'Seattlv', 'Visalia', 'Overland Park',\n",
              "       'Temecula', 'Larrdo', 'Oceansike', 'Houkton', 'Yucaipa', 'Seattje',\n",
              "       'Revere', 'Conroe', 'Tinley Park', 'Dubuque', 'Ltncaster',\n",
              "       'Inglewond', 'New York oity', 'Nasiville', 'Dearborn Heights',\n",
              "       'Santa Fe', 'Springfibld', 'Hickorz', 'Carol Stream',\n",
              "       'Saint Cloud', 'Chicagf', 'Herderson', 'Ricbmond', 'Mesquite',\n",
              "       'Long Beavh', 'North Miami', 'Philadelzhia', 'nhiladelphia',\n",
              "       'Los Acgeles', 'Dltroit', 'Plantation', 'Port Saint Lucie', 'Misa',\n",
              "       'Los Ajgeles', 'lolumbus', 'Rock Hill', 'Odessa', 'Ejerett',\n",
              "       'West Allis', 'Wesi Allis', 'iouston', 'Chula Vista', 'Manhattan',\n",
              "       'Houaton', 'Altoona', 'Thornton', 'Champaign', 'Johbson City',\n",
              "       'Los Angwles', 'Texarkana', 'Edinburg', 'Baytown', 'Philademphia',\n",
              "       'Greenwood', 'Bufcalo', 'Hohestead', 'Woonsocket', 'Kpnosha',\n",
              "       'van Antonio', 'Superior', 'Bedford', 'Covington', 'Chicako',\n",
              "       'Charlitte', 'Broken Arrow', 'Miramar', 'bigard', 'New York rity',\n",
              "       'qew York City', 'tinneapolis', 'Seqttle', 'Hollywood',\n",
              "       'Deer Park', 'Wichita', 'San Franciscb', 'Pasadzna', 'uesa',\n",
              "       'Mcallen', 'Iowa City', 'Boise', 'Cranston', 'Baltimote',\n",
              "       'Port Arthur', 'Citrus Heights', 'The Colony', 'Akrcn',\n",
              "       'Daytona Beach', 'Bullhead City', 'Portage', 'Mzsa', 'uurora',\n",
              "       'Fargo', 'Elkhart', 'San Gabriel', 'Spripgfield',\n",
              "       'Colorado Sprirgs', 'Margati', 'Sandy Springs', 'landy Springs',\n",
              "       'pan Francisco', 'Mentor', 'Meptor', 'Lawton', 'Lox Angeles',\n",
              "       'Los hngeles', 'Pxoenix', 'Hampton', 'Rome', 'Chicazo',\n",
              "       'Lz Crosse', 'nouston', 'Lewiston', 'Hattiesburg', 'Danvglle',\n",
              "       'Danville', 'LostAngeles', 'Loq Angeles', 'LosvAngeles',\n",
              "       'Newporf News', 'Philhdelphia', 'Detroiv', 'Logan', 'Detdoit',\n",
              "       'Waterbury', 'Waserbury', 'Porpland', 'Los Angepes', 'Athens',\n",
              "       'Rochkster', 'Spokane', 'Jcckson', 'Avondale', 'Coloradt Springs',\n",
              "       'Colorado Sprwngs', 'Marietta', 'Jacksonmille', 'Jacksonsille',\n",
              "       'Philadeldhia', 'Philadeephia', 'Yuma', 'Wausau', 'Duclin',\n",
              "       'Dbblin', 'Pasco', 'Oak Park', 'Pensacola', 'Magietta',\n",
              "       'Johnson jity', 'League City', 'Gaitheusburg', 'Gaithersburg',\n",
              "       'Auxora', 'Lehi', 'Tuscaloosa', 'San Franciico', 'Lafayetke',\n",
              "       'dan Diego', 'Clgveland', 'Moreno Valley', 'Georgetown', 'Trentoq',\n",
              "       'Loveland', 'Phvladelphia', 'New work City', 'Chandler',\n",
              "       'San Franciscc', 'Helena', 'Kirkwood', 'Waco', 'Ksnt', 'ient',\n",
              "       'Round Rocl', 'Rtdlands', 'Carrolltoy', 'Frankfort', 'Bethlehem',\n",
              "       'Knoxvilqe', 'Grand Island', 'New York Cioy', 'Rochestdr',\n",
              "       'Woodbury', 'ioodbury', 'Hoxston', 'Rogers', 'Clovis', 'Wiciita',\n",
              "       'Saint Petxrsburg', 'Jupiter', 'Philadelmhia', 'Sanga Clara',\n",
              "       'Santa Barbara', 'Cedar Hill', 'Norfolk', 'Tucsov', 'Draper',\n",
              "       'Sal Diego', 'San Francusco', 'La Crosse', 'Ann Arbor', 'La Mesa',\n",
              "       'ApplekValley', 'Pocatello', 'Holland', 'Holnand', 'New Yrrk City',\n",
              "       'Milford', 'Faiwfield', 'Gneenville', 'Buffalo Grove', 'jan Diego',\n",
              "       'Los mngeles', 'Lake Forest', 'Redding', 'Leomincter', 'Waso',\n",
              "       'Lds Angeles', 'Chico', 'Jwcksonville', 'Nej York City', 'Utica',\n",
              "       'Miavi', 'Conway', 'Cheyenne', 'Nmw York City', 'Owensboro',\n",
              "       'Philxdelphia', 'Philadeaphia', 'Los nngeles', 'Hosston',\n",
              "       'Los Angzles', 'Caldwell', 'LosrAngeles', 'Kenner', 'Nashua',\n",
              "       'Knoxvidle', 'Bartlett', 'poveland', 'New nork City',\n",
              "       'Redwood City', 'New Yorv City', 'Lebanon', 'Hollywiod',\n",
              "       'Santa Maria', 'Ltkeland', 'Lakjland', 'bolumbia', 'Des Plaines',\n",
              "       'Longview', 'Hendersonville', 'Portlant', 'Waterloo', 'Seajtle',\n",
              "       'Seadtle', 'Cambridge', 'Palatine', 'Mareon', 'Beverly',\n",
              "       'New York zity', 'Eugene', 'Oxnard', 'Renton', 'Rlnton',\n",
              "       'New York Citc', 'Raoeigh', 'Chandlmr', 'Glenview', 'Houpton',\n",
              "       'Detfoit', 'Spattle', 'Delray Beach', 'Commerce City',\n",
              "       'Texas City', 'fellevue', 'Wilson', 'Inbianapolis', 'iilbert',\n",
              "       'Irvino', 'Milwlukee', 'Fort Lauierdale', 'Rio Rancho', 'Skokje',\n",
              "       'Goldsboro', 'Chccago', 'Philarelphia', 'Lafayeite', 'Montebello',\n",
              "       'El Cajon', 'Los Abgeles', 'Beaumont', 'brenton', 'Shattle',\n",
              "       'West Palm Beach', 'New York Citv', 'San Francosco', 'Giljert',\n",
              "       'Abilene', 'Normal', 'NewtYork City', 'xoncord', 'pnaheim',\n",
              "       'Plgasant Grove', 'Los Angehes', 'Sparus', 'New Yyrk City',\n",
              "       'Ncw York City', 'Saint Charles', 'Los Angefes', 'New York Cyty',\n",
              "       'Flrt Lauderdale', 'Camarillo', 'Fainfield', 'Los Angedes',\n",
              "       'holumbia', 'Clevelane', 'Hillsboro', 'New jork City', 'Burbank',\n",
              "       'Nsw York City', 'Milwaukbe', 'Modesto', 'Garden City', 'Osaha',\n",
              "       'New York Cigy', 'Tolexo', 'New Yzrk City', 'Wejtminster',\n",
              "       'Atlantic City', 'Longmont', 'Orlandi', 'Los Angmles', 'Phoznix',\n",
              "       'Maruon', 'Ormm', 'Philavelphia', 'Springfqeld', 'Baltimorw',\n",
              "       'Jacksonvdlle', 'Coluvbia', 'Rivergide', 'Lax Vegas',\n",
              "       'Niw York City', 'New YorkqCity', 'Arlinpton', 'Chihago',\n",
              "       'Hattiedburg', 'Charlopte', 'Davis', 'memphis', 'San Frtncisco',\n",
              "       'Morgan Hill', 'Spaingfield', 'Brehtwood', 'Chgco', 'Clifton',\n",
              "       'Sheboygan', 'Sealtle', 'New YorkcCity', 'Long Beanh', 'Rochesuer',\n",
              "       'East Poinp', 'East Point', 'LoszAngeles', 'Rtverside',\n",
              "       'Rapid City', 'Odkssa', 'Chipago', 'NewzYork City', 'eroy',\n",
              "       'man Francisco', 'Jaccsonville', 'xroy', 'Ttlsa', 'League Cixy',\n",
              "       'Andover', 'Lawrepce', 'Kissimmee', 'Stattle', 'Houstob',\n",
              "       'Shelton', 'Danbury', 'Los Angelts', 'Lar Vegas', 'San Franbisco',\n",
              "       'Hozlywood', 'Arlqngton', 'Dallws', 'Dsllas', 'Mylwaukee',\n",
              "       'Coluibus', 'Sanford', 'NewbYork City', 'Louihville', 'San Marcos',\n",
              "       'Greeley', 'Oqkland', 'Houfton', 'secatur', 'Mansfield',\n",
              "       'Lot Angeles', 'Elyria', 'Houstun', 'San Dieio', 'Twin Falls',\n",
              "       'Rzleigh', 'Chicabo', 'yolumbus', 'Coral Gables', 'Hickory',\n",
              "       'Romeoville', 'San Francisto', 'Columiia', 'Carlsbaf',\n",
              "       'Marlborough', 'Seattly', 'Defroit', 'Quinfy', 'Colombus',\n",
              "       'Louisbille', 'jroy', 'Bloominqton', 'Hounton', 'Philanelphia',\n",
              "       'LaslCruces', 'Lqurel', 'Laurel', 'New Yogk City', 'Buvlington',\n",
              "       'Lzs Vegas', 'New York Ckty', 'San Anzonio', 'Bryan', 'Brysn',\n",
              "       'Columbuq', 'han Francisco', 'Pine Bluff', 'Aberdeen',\n",
              "       'Detray Beach', 'Hagerstown', 'Lqkewood', 'East Orange',\n",
              "       'Arlington Heights', 'Greensborv', 'Oswego', 'Greenwpod', 'uome',\n",
              "       'San Francesco', 'New York lity', 'Whexling', 'Everetd',\n",
              "       'Coon Rapids', 'Los Angelfs', 'San Clemente', 'Detrokt',\n",
              "       'dnglewood', 'San Luis Obispo', 'ehiladelphia', 'Springdale',\n",
              "       'Hzuston', 'Tolwdo', 'Lodi', 'Lnng Beach', 'Long Beaca',\n",
              "       'Long zeach', 'Mason', 'Los Angewes', 'Cnicago', 'Fairfijld',\n",
              "       'Bryac', 'Philadelihia', 'Indianapdlis'], dtype=object)"
            ]
          },
          "metadata": {},
          "execution_count": 46
        }
      ]
    },
    {
      "cell_type": "code",
      "source": [
        "df['city'].value_counts()"
      ],
      "metadata": {
        "colab": {
          "base_uri": "https://localhost:8080/"
        },
        "id": "yI7mKaUzb-An",
        "outputId": "906107f8-1413-46ce-cb60-97d10759c436"
      },
      "execution_count": 45,
      "outputs": [
        {
          "output_type": "execute_result",
          "data": {
            "text/plain": [
              "New York City    909\n",
              "Los Angeles      750\n",
              "Philadelphia     541\n",
              "San Francisco    509\n",
              "Seattle          425\n",
              "                ... \n",
              "Johbson City       1\n",
              "Champaign          1\n",
              "aawrence           1\n",
              "Houaton            1\n",
              "Indianapdlis       1\n",
              "Name: city, Length: 990, dtype: int64"
            ]
          },
          "metadata": {},
          "execution_count": 45
        }
      ]
    },
    {
      "cell_type": "code",
      "source": [
        "\"New York City\", \"Los Angeles\", \"Philadelphia\", \"San Francisco\",\"Chicago\", \"Houston\", \"Holland\", \"Atlanta\""
      ],
      "metadata": {
        "id": "3OkGMSfXc0dD"
      },
      "execution_count": null,
      "outputs": []
    },
    {
      "cell_type": "code",
      "source": [
        "\n",
        "from fuzzywuzzy import process\n",
        "\n",
        "# List of correct city names (you might want to use a more comprehensive list)\n",
        "correct_city_names = [\"Henderson\", \"Los Angeles\", \"Fort Lauderdale\", \"Concord\", \"Seattle\", \"Fort Worth\",\n",
        "                      \"Madison\", \"West Jordan\", \"San Francisco\", \"Fremont\", \"Philadelphia\", \"Orem\", \"Houston\",\n",
        "                      \"Richardson\", \"Naperville\", \"Melbourne\", \"Eagan\", \"Westland\", \"Dover\", \"New Albany\",\n",
        "                      \"New York City\", \"Troy\", \"Chicago\", \"Gilbert\", \"Springfield\", \"Jackson\", \"Memphis\",\n",
        "                      \"Decatur\", \"Durham\", \"Columbia\", \"Rochester\", \"Minneapolis\", \"Portland\", \"Saint Paul\",\n",
        "                      \"Aurora\", \"Charlotte\", \"Orland Park\", \"Urbandale\", \"Columbus\", \"Bristol\", \"Wilmington\",\n",
        "                      \"Bloomington\", \"Phoenix\", \"Roseville\", \"Independence\", \"Pasadena\", \"Newark\", \"Franklin\",\n",
        "                      \"Scottsdale\", \"San Jose\", \"Edmond\", \"Carlsbad\", \"San Antonio\", \"Monroe\", \"Fairfield\",\n",
        "                      \"Grand Prairie\", \"Redlands\", \"Hamilton\", \"Westfield\", \"Akron\", \"Denver\", \"Dallas\",\n",
        "                      \"Whittier\", \"Saginaw\", \"Medina\", \"Dublin\", \"Detroit\", \"Tampa\", \"Santa Clara\", \"Lakeville\",\n",
        "                      \"San Diego\", \"Pasadena\", \"Brentwood\", \"Chapel Hill\", \"Morristown\", \"Cincinnati\",\n",
        "                      \"Inglewood\", \"Portland\", \"Tamarac\", \"Colorado Springs\", \"Belleville\", \"Taylor\", \"Lakewood\",\n",
        "                      \"Arlington\", \"Arvada\", \"Hackensack\", \"Saint Petersburg\", \"Long Beach\", \"Hesperia\",\n",
        "                      \"Murfreesboro\", \"Layton\", \"Austin\", \"Lowell\", \"Manchester\", \"Harlingen\", \"Tucson\",\n",
        "                      \"Quincy\", \"Pembroke Pines\", \"Des Moines\", \"Peoria\", \"Las Vegas\", \"Warwick\", \"Miami\",\n",
        "                      \"Huntington Beach\", \"Richmond\", \"Louisville\", \"Lawrence\", \"Canton\", \"New Rochelle\",\n",
        "                      \"Gastonia\", \"Jacksonville\", \"Auburn\", \"Norman\", \"Park Ridge\", \"Amarillo\", \"Lindenhurst\"]\n",
        "df['city'] = df['city'].apply(lambda x: process.extractOne(x,correct_city_names)[0])\n"
      ],
      "metadata": {
        "id": "5cao5sJeksXX"
      },
      "execution_count": 47,
      "outputs": []
    },
    {
      "cell_type": "code",
      "source": [
        "df['city'].value_counts()"
      ],
      "metadata": {
        "colab": {
          "base_uri": "https://localhost:8080/"
        },
        "id": "J4je3N8vmO7d",
        "outputId": "bc8427d1-ab34-4f62-9b0f-a967446a3015"
      },
      "execution_count": 48,
      "outputs": [
        {
          "output_type": "execute_result",
          "data": {
            "text/plain": [
              "New York City    969\n",
              "Los Angeles      796\n",
              "Philadelphia     609\n",
              "San Francisco    544\n",
              "Seattle          446\n",
              "                ... \n",
              "Chapel Hill        6\n",
              "Lindenhurst        6\n",
              "Tamarac            5\n",
              "Arvada             4\n",
              "Melbourne          2\n",
              "Name: city, Length: 114, dtype: int64"
            ]
          },
          "metadata": {},
          "execution_count": 48
        }
      ]
    },
    {
      "cell_type": "code",
      "source": [
        "!pip install pandas openpyxl\n"
      ],
      "metadata": {
        "colab": {
          "base_uri": "https://localhost:8080/"
        },
        "id": "y0p6lRKfmtiY",
        "outputId": "4e6a3271-a8fa-4691-eaf2-075e2cb80acc"
      },
      "execution_count": 49,
      "outputs": [
        {
          "output_type": "stream",
          "name": "stdout",
          "text": [
            "Requirement already satisfied: pandas in /usr/local/lib/python3.10/dist-packages (1.5.3)\n",
            "Requirement already satisfied: openpyxl in /usr/local/lib/python3.10/dist-packages (3.1.2)\n",
            "Requirement already satisfied: python-dateutil>=2.8.1 in /usr/local/lib/python3.10/dist-packages (from pandas) (2.8.2)\n",
            "Requirement already satisfied: pytz>=2020.1 in /usr/local/lib/python3.10/dist-packages (from pandas) (2023.3.post1)\n",
            "Requirement already satisfied: numpy>=1.21.0 in /usr/local/lib/python3.10/dist-packages (from pandas) (1.23.5)\n",
            "Requirement already satisfied: et-xmlfile in /usr/local/lib/python3.10/dist-packages (from openpyxl) (1.1.0)\n",
            "Requirement already satisfied: six>=1.5 in /usr/local/lib/python3.10/dist-packages (from python-dateutil>=2.8.1->pandas) (1.16.0)\n"
          ]
        }
      ]
    },
    {
      "cell_type": "code",
      "source": [
        "import pandas as pd\n",
        "\n",
        "# Assuming 'df' is your DataFrame\n",
        "df.to_excel('cleandata.xlsx', index=False)\n"
      ],
      "metadata": {
        "id": "0s2g9Pl9mxkq"
      },
      "execution_count": 51,
      "outputs": []
    },
    {
      "cell_type": "code",
      "source": [
        "from google.colab import files\n",
        "files.download('cleandata.xlsx')\n"
      ],
      "metadata": {
        "colab": {
          "base_uri": "https://localhost:8080/",
          "height": 17
        },
        "id": "b6ZBsgHpm29j",
        "outputId": "9896c9af-7eb8-4a83-d325-77084ef9fcc8"
      },
      "execution_count": 52,
      "outputs": [
        {
          "output_type": "display_data",
          "data": {
            "text/plain": [
              "<IPython.core.display.Javascript object>"
            ],
            "application/javascript": [
              "\n",
              "    async function download(id, filename, size) {\n",
              "      if (!google.colab.kernel.accessAllowed) {\n",
              "        return;\n",
              "      }\n",
              "      const div = document.createElement('div');\n",
              "      const label = document.createElement('label');\n",
              "      label.textContent = `Downloading \"${filename}\": `;\n",
              "      div.appendChild(label);\n",
              "      const progress = document.createElement('progress');\n",
              "      progress.max = size;\n",
              "      div.appendChild(progress);\n",
              "      document.body.appendChild(div);\n",
              "\n",
              "      const buffers = [];\n",
              "      let downloaded = 0;\n",
              "\n",
              "      const channel = await google.colab.kernel.comms.open(id);\n",
              "      // Send a message to notify the kernel that we're ready.\n",
              "      channel.send({})\n",
              "\n",
              "      for await (const message of channel.messages) {\n",
              "        // Send a message to notify the kernel that we're ready.\n",
              "        channel.send({})\n",
              "        if (message.buffers) {\n",
              "          for (const buffer of message.buffers) {\n",
              "            buffers.push(buffer);\n",
              "            downloaded += buffer.byteLength;\n",
              "            progress.value = downloaded;\n",
              "          }\n",
              "        }\n",
              "      }\n",
              "      const blob = new Blob(buffers, {type: 'application/binary'});\n",
              "      const a = document.createElement('a');\n",
              "      a.href = window.URL.createObjectURL(blob);\n",
              "      a.download = filename;\n",
              "      div.appendChild(a);\n",
              "      a.click();\n",
              "      div.remove();\n",
              "    }\n",
              "  "
            ]
          },
          "metadata": {}
        },
        {
          "output_type": "display_data",
          "data": {
            "text/plain": [
              "<IPython.core.display.Javascript object>"
            ],
            "application/javascript": [
              "download(\"download_11c4abfa-0baa-42bc-b5ee-b3ba54a68363\", \"cleandata.xlsx\", 1706326)"
            ]
          },
          "metadata": {}
        }
      ]
    },
    {
      "cell_type": "code",
      "source": [
        "url2 = 'https://github.com/adeyeyesaidah/data/raw/main/cleaned_data.csv'\n",
        "df2 = pd.read_csv(url2)"
      ],
      "metadata": {
        "id": "43cekQZGKY0i"
      },
      "execution_count": 58,
      "outputs": []
    },
    {
      "cell_type": "code",
      "source": [
        "df2.head()"
      ],
      "metadata": {
        "colab": {
          "base_uri": "https://localhost:8080/",
          "height": 568
        },
        "id": "W-e5a6RyKmuH",
        "outputId": "d3f44699-41c5-4f16-fec9-9bc9f576391b"
      },
      "execution_count": 59,
      "outputs": [
        {
          "output_type": "execute_result",
          "data": {
            "text/plain": [
              "   row_id        order_id           order_date            ship_date  \\\n",
              "0     1.0  CA-2016-152156  2016-08-11 00:00:00  2016-11-11 00:00:00   \n",
              "1     2.0  CA-2016-152156  2016-08-11 00:00:00  2016-11-11 00:00:00   \n",
              "2     3.0  CA-2016-138688  2016-12-06 00:00:00  2016-06-16 00:00:00   \n",
              "3     4.0  US-2015-108966  2015-11-10 00:00:00  2015-10-18 00:00:00   \n",
              "4     NaN  US-2015-108966  2015-11-10 00:00:00                  NaN   \n",
              "\n",
              "        ship_mode customer_id    customer_name    segment        country  \\\n",
              "0    Second Class    CG-12520      Claire Gute   Consumer  United States   \n",
              "1    Second Class    CG-12520      Clrire Gute   Consumer  United States   \n",
              "2    Second Class    DV-13045  Darrin Van Huff  Corporate  United States   \n",
              "3  Standard Class    SO-20335   Sean O'Donnell   Consumer  United States   \n",
              "4  Standard Class    SO-20335   Sean O'Donnell   Consumer  United States   \n",
              "\n",
              "              city  ... postal_code  region       product_id         category  \\\n",
              "0        Henderson  ...     42420.0   South  FUR-BO-10001798        Furniture   \n",
              "1        Henderson  ...     42420.0   South  FUR-CH-10000454        Furniture   \n",
              "2      Los Angeles  ...     90036.0    West  OFF-LA-10000240  Office Supplies   \n",
              "3  Fort Lauderdale  ...     33311.0   South  FUR-TA-10000577        Furniture   \n",
              "4  Fort Lauderdale  ...     33311.0   South  OFF-ST-10000760  Office Supplies   \n",
              "\n",
              "  sub-category                                       product_name       sales  \\\n",
              "0    Bookcases                  Bush Somerset Collection Bookcase  384.606521   \n",
              "1       Chairs  Hon Deluxe Fabric Upholstered Stacking Chairs,...  939.510811   \n",
              "2       Labels  Self-Adhesive Address Labels for Typewriters b...   20.496700   \n",
              "3       Tables      Bretford CR4500 Series Slim Rectangular Table  622.846863   \n",
              "4      Storage                     Eldon Fold 'N Roll Cart System   20.648257   \n",
              "\n",
              "   quantity  discount      profit  \n",
              "0       2.0      0.00   60.961748  \n",
              "1       3.0      0.00  160.630816  \n",
              "2       2.0      0.00         NaN  \n",
              "3       5.0      0.45 -475.035364  \n",
              "4       2.0      0.20    1.496114  \n",
              "\n",
              "[5 rows x 21 columns]"
            ],
            "text/html": [
              "\n",
              "  <div id=\"df-b8841393-0f07-4a45-b13c-910ab7fbe9b0\" class=\"colab-df-container\">\n",
              "    <div>\n",
              "<style scoped>\n",
              "    .dataframe tbody tr th:only-of-type {\n",
              "        vertical-align: middle;\n",
              "    }\n",
              "\n",
              "    .dataframe tbody tr th {\n",
              "        vertical-align: top;\n",
              "    }\n",
              "\n",
              "    .dataframe thead th {\n",
              "        text-align: right;\n",
              "    }\n",
              "</style>\n",
              "<table border=\"1\" class=\"dataframe\">\n",
              "  <thead>\n",
              "    <tr style=\"text-align: right;\">\n",
              "      <th></th>\n",
              "      <th>row_id</th>\n",
              "      <th>order_id</th>\n",
              "      <th>order_date</th>\n",
              "      <th>ship_date</th>\n",
              "      <th>ship_mode</th>\n",
              "      <th>customer_id</th>\n",
              "      <th>customer_name</th>\n",
              "      <th>segment</th>\n",
              "      <th>country</th>\n",
              "      <th>city</th>\n",
              "      <th>...</th>\n",
              "      <th>postal_code</th>\n",
              "      <th>region</th>\n",
              "      <th>product_id</th>\n",
              "      <th>category</th>\n",
              "      <th>sub-category</th>\n",
              "      <th>product_name</th>\n",
              "      <th>sales</th>\n",
              "      <th>quantity</th>\n",
              "      <th>discount</th>\n",
              "      <th>profit</th>\n",
              "    </tr>\n",
              "  </thead>\n",
              "  <tbody>\n",
              "    <tr>\n",
              "      <th>0</th>\n",
              "      <td>1.0</td>\n",
              "      <td>CA-2016-152156</td>\n",
              "      <td>2016-08-11 00:00:00</td>\n",
              "      <td>2016-11-11 00:00:00</td>\n",
              "      <td>Second Class</td>\n",
              "      <td>CG-12520</td>\n",
              "      <td>Claire Gute</td>\n",
              "      <td>Consumer</td>\n",
              "      <td>United States</td>\n",
              "      <td>Henderson</td>\n",
              "      <td>...</td>\n",
              "      <td>42420.0</td>\n",
              "      <td>South</td>\n",
              "      <td>FUR-BO-10001798</td>\n",
              "      <td>Furniture</td>\n",
              "      <td>Bookcases</td>\n",
              "      <td>Bush Somerset Collection Bookcase</td>\n",
              "      <td>384.606521</td>\n",
              "      <td>2.0</td>\n",
              "      <td>0.00</td>\n",
              "      <td>60.961748</td>\n",
              "    </tr>\n",
              "    <tr>\n",
              "      <th>1</th>\n",
              "      <td>2.0</td>\n",
              "      <td>CA-2016-152156</td>\n",
              "      <td>2016-08-11 00:00:00</td>\n",
              "      <td>2016-11-11 00:00:00</td>\n",
              "      <td>Second Class</td>\n",
              "      <td>CG-12520</td>\n",
              "      <td>Clrire Gute</td>\n",
              "      <td>Consumer</td>\n",
              "      <td>United States</td>\n",
              "      <td>Henderson</td>\n",
              "      <td>...</td>\n",
              "      <td>42420.0</td>\n",
              "      <td>South</td>\n",
              "      <td>FUR-CH-10000454</td>\n",
              "      <td>Furniture</td>\n",
              "      <td>Chairs</td>\n",
              "      <td>Hon Deluxe Fabric Upholstered Stacking Chairs,...</td>\n",
              "      <td>939.510811</td>\n",
              "      <td>3.0</td>\n",
              "      <td>0.00</td>\n",
              "      <td>160.630816</td>\n",
              "    </tr>\n",
              "    <tr>\n",
              "      <th>2</th>\n",
              "      <td>3.0</td>\n",
              "      <td>CA-2016-138688</td>\n",
              "      <td>2016-12-06 00:00:00</td>\n",
              "      <td>2016-06-16 00:00:00</td>\n",
              "      <td>Second Class</td>\n",
              "      <td>DV-13045</td>\n",
              "      <td>Darrin Van Huff</td>\n",
              "      <td>Corporate</td>\n",
              "      <td>United States</td>\n",
              "      <td>Los Angeles</td>\n",
              "      <td>...</td>\n",
              "      <td>90036.0</td>\n",
              "      <td>West</td>\n",
              "      <td>OFF-LA-10000240</td>\n",
              "      <td>Office Supplies</td>\n",
              "      <td>Labels</td>\n",
              "      <td>Self-Adhesive Address Labels for Typewriters b...</td>\n",
              "      <td>20.496700</td>\n",
              "      <td>2.0</td>\n",
              "      <td>0.00</td>\n",
              "      <td>NaN</td>\n",
              "    </tr>\n",
              "    <tr>\n",
              "      <th>3</th>\n",
              "      <td>4.0</td>\n",
              "      <td>US-2015-108966</td>\n",
              "      <td>2015-11-10 00:00:00</td>\n",
              "      <td>2015-10-18 00:00:00</td>\n",
              "      <td>Standard Class</td>\n",
              "      <td>SO-20335</td>\n",
              "      <td>Sean O'Donnell</td>\n",
              "      <td>Consumer</td>\n",
              "      <td>United States</td>\n",
              "      <td>Fort Lauderdale</td>\n",
              "      <td>...</td>\n",
              "      <td>33311.0</td>\n",
              "      <td>South</td>\n",
              "      <td>FUR-TA-10000577</td>\n",
              "      <td>Furniture</td>\n",
              "      <td>Tables</td>\n",
              "      <td>Bretford CR4500 Series Slim Rectangular Table</td>\n",
              "      <td>622.846863</td>\n",
              "      <td>5.0</td>\n",
              "      <td>0.45</td>\n",
              "      <td>-475.035364</td>\n",
              "    </tr>\n",
              "    <tr>\n",
              "      <th>4</th>\n",
              "      <td>NaN</td>\n",
              "      <td>US-2015-108966</td>\n",
              "      <td>2015-11-10 00:00:00</td>\n",
              "      <td>NaN</td>\n",
              "      <td>Standard Class</td>\n",
              "      <td>SO-20335</td>\n",
              "      <td>Sean O'Donnell</td>\n",
              "      <td>Consumer</td>\n",
              "      <td>United States</td>\n",
              "      <td>Fort Lauderdale</td>\n",
              "      <td>...</td>\n",
              "      <td>33311.0</td>\n",
              "      <td>South</td>\n",
              "      <td>OFF-ST-10000760</td>\n",
              "      <td>Office Supplies</td>\n",
              "      <td>Storage</td>\n",
              "      <td>Eldon Fold 'N Roll Cart System</td>\n",
              "      <td>20.648257</td>\n",
              "      <td>2.0</td>\n",
              "      <td>0.20</td>\n",
              "      <td>1.496114</td>\n",
              "    </tr>\n",
              "  </tbody>\n",
              "</table>\n",
              "<p>5 rows × 21 columns</p>\n",
              "</div>\n",
              "    <div class=\"colab-df-buttons\">\n",
              "\n",
              "  <div class=\"colab-df-container\">\n",
              "    <button class=\"colab-df-convert\" onclick=\"convertToInteractive('df-b8841393-0f07-4a45-b13c-910ab7fbe9b0')\"\n",
              "            title=\"Convert this dataframe to an interactive table.\"\n",
              "            style=\"display:none;\">\n",
              "\n",
              "  <svg xmlns=\"http://www.w3.org/2000/svg\" height=\"24px\" viewBox=\"0 -960 960 960\">\n",
              "    <path d=\"M120-120v-720h720v720H120Zm60-500h600v-160H180v160Zm220 220h160v-160H400v160Zm0 220h160v-160H400v160ZM180-400h160v-160H180v160Zm440 0h160v-160H620v160ZM180-180h160v-160H180v160Zm440 0h160v-160H620v160Z\"/>\n",
              "  </svg>\n",
              "    </button>\n",
              "\n",
              "  <style>\n",
              "    .colab-df-container {\n",
              "      display:flex;\n",
              "      gap: 12px;\n",
              "    }\n",
              "\n",
              "    .colab-df-convert {\n",
              "      background-color: #E8F0FE;\n",
              "      border: none;\n",
              "      border-radius: 50%;\n",
              "      cursor: pointer;\n",
              "      display: none;\n",
              "      fill: #1967D2;\n",
              "      height: 32px;\n",
              "      padding: 0 0 0 0;\n",
              "      width: 32px;\n",
              "    }\n",
              "\n",
              "    .colab-df-convert:hover {\n",
              "      background-color: #E2EBFA;\n",
              "      box-shadow: 0px 1px 2px rgba(60, 64, 67, 0.3), 0px 1px 3px 1px rgba(60, 64, 67, 0.15);\n",
              "      fill: #174EA6;\n",
              "    }\n",
              "\n",
              "    .colab-df-buttons div {\n",
              "      margin-bottom: 4px;\n",
              "    }\n",
              "\n",
              "    [theme=dark] .colab-df-convert {\n",
              "      background-color: #3B4455;\n",
              "      fill: #D2E3FC;\n",
              "    }\n",
              "\n",
              "    [theme=dark] .colab-df-convert:hover {\n",
              "      background-color: #434B5C;\n",
              "      box-shadow: 0px 1px 3px 1px rgba(0, 0, 0, 0.15);\n",
              "      filter: drop-shadow(0px 1px 2px rgba(0, 0, 0, 0.3));\n",
              "      fill: #FFFFFF;\n",
              "    }\n",
              "  </style>\n",
              "\n",
              "    <script>\n",
              "      const buttonEl =\n",
              "        document.querySelector('#df-b8841393-0f07-4a45-b13c-910ab7fbe9b0 button.colab-df-convert');\n",
              "      buttonEl.style.display =\n",
              "        google.colab.kernel.accessAllowed ? 'block' : 'none';\n",
              "\n",
              "      async function convertToInteractive(key) {\n",
              "        const element = document.querySelector('#df-b8841393-0f07-4a45-b13c-910ab7fbe9b0');\n",
              "        const dataTable =\n",
              "          await google.colab.kernel.invokeFunction('convertToInteractive',\n",
              "                                                    [key], {});\n",
              "        if (!dataTable) return;\n",
              "\n",
              "        const docLinkHtml = 'Like what you see? Visit the ' +\n",
              "          '<a target=\"_blank\" href=https://colab.research.google.com/notebooks/data_table.ipynb>data table notebook</a>'\n",
              "          + ' to learn more about interactive tables.';\n",
              "        element.innerHTML = '';\n",
              "        dataTable['output_type'] = 'display_data';\n",
              "        await google.colab.output.renderOutput(dataTable, element);\n",
              "        const docLink = document.createElement('div');\n",
              "        docLink.innerHTML = docLinkHtml;\n",
              "        element.appendChild(docLink);\n",
              "      }\n",
              "    </script>\n",
              "  </div>\n",
              "\n",
              "\n",
              "<div id=\"df-cd59415a-40be-4cdd-af04-b4362831cdc7\">\n",
              "  <button class=\"colab-df-quickchart\" onclick=\"quickchart('df-cd59415a-40be-4cdd-af04-b4362831cdc7')\"\n",
              "            title=\"Suggest charts\"\n",
              "            style=\"display:none;\">\n",
              "\n",
              "<svg xmlns=\"http://www.w3.org/2000/svg\" height=\"24px\"viewBox=\"0 0 24 24\"\n",
              "     width=\"24px\">\n",
              "    <g>\n",
              "        <path d=\"M19 3H5c-1.1 0-2 .9-2 2v14c0 1.1.9 2 2 2h14c1.1 0 2-.9 2-2V5c0-1.1-.9-2-2-2zM9 17H7v-7h2v7zm4 0h-2V7h2v10zm4 0h-2v-4h2v4z\"/>\n",
              "    </g>\n",
              "</svg>\n",
              "  </button>\n",
              "\n",
              "<style>\n",
              "  .colab-df-quickchart {\n",
              "      --bg-color: #E8F0FE;\n",
              "      --fill-color: #1967D2;\n",
              "      --hover-bg-color: #E2EBFA;\n",
              "      --hover-fill-color: #174EA6;\n",
              "      --disabled-fill-color: #AAA;\n",
              "      --disabled-bg-color: #DDD;\n",
              "  }\n",
              "\n",
              "  [theme=dark] .colab-df-quickchart {\n",
              "      --bg-color: #3B4455;\n",
              "      --fill-color: #D2E3FC;\n",
              "      --hover-bg-color: #434B5C;\n",
              "      --hover-fill-color: #FFFFFF;\n",
              "      --disabled-bg-color: #3B4455;\n",
              "      --disabled-fill-color: #666;\n",
              "  }\n",
              "\n",
              "  .colab-df-quickchart {\n",
              "    background-color: var(--bg-color);\n",
              "    border: none;\n",
              "    border-radius: 50%;\n",
              "    cursor: pointer;\n",
              "    display: none;\n",
              "    fill: var(--fill-color);\n",
              "    height: 32px;\n",
              "    padding: 0;\n",
              "    width: 32px;\n",
              "  }\n",
              "\n",
              "  .colab-df-quickchart:hover {\n",
              "    background-color: var(--hover-bg-color);\n",
              "    box-shadow: 0 1px 2px rgba(60, 64, 67, 0.3), 0 1px 3px 1px rgba(60, 64, 67, 0.15);\n",
              "    fill: var(--button-hover-fill-color);\n",
              "  }\n",
              "\n",
              "  .colab-df-quickchart-complete:disabled,\n",
              "  .colab-df-quickchart-complete:disabled:hover {\n",
              "    background-color: var(--disabled-bg-color);\n",
              "    fill: var(--disabled-fill-color);\n",
              "    box-shadow: none;\n",
              "  }\n",
              "\n",
              "  .colab-df-spinner {\n",
              "    border: 2px solid var(--fill-color);\n",
              "    border-color: transparent;\n",
              "    border-bottom-color: var(--fill-color);\n",
              "    animation:\n",
              "      spin 1s steps(1) infinite;\n",
              "  }\n",
              "\n",
              "  @keyframes spin {\n",
              "    0% {\n",
              "      border-color: transparent;\n",
              "      border-bottom-color: var(--fill-color);\n",
              "      border-left-color: var(--fill-color);\n",
              "    }\n",
              "    20% {\n",
              "      border-color: transparent;\n",
              "      border-left-color: var(--fill-color);\n",
              "      border-top-color: var(--fill-color);\n",
              "    }\n",
              "    30% {\n",
              "      border-color: transparent;\n",
              "      border-left-color: var(--fill-color);\n",
              "      border-top-color: var(--fill-color);\n",
              "      border-right-color: var(--fill-color);\n",
              "    }\n",
              "    40% {\n",
              "      border-color: transparent;\n",
              "      border-right-color: var(--fill-color);\n",
              "      border-top-color: var(--fill-color);\n",
              "    }\n",
              "    60% {\n",
              "      border-color: transparent;\n",
              "      border-right-color: var(--fill-color);\n",
              "    }\n",
              "    80% {\n",
              "      border-color: transparent;\n",
              "      border-right-color: var(--fill-color);\n",
              "      border-bottom-color: var(--fill-color);\n",
              "    }\n",
              "    90% {\n",
              "      border-color: transparent;\n",
              "      border-bottom-color: var(--fill-color);\n",
              "    }\n",
              "  }\n",
              "</style>\n",
              "\n",
              "  <script>\n",
              "    async function quickchart(key) {\n",
              "      const quickchartButtonEl =\n",
              "        document.querySelector('#' + key + ' button');\n",
              "      quickchartButtonEl.disabled = true;  // To prevent multiple clicks.\n",
              "      quickchartButtonEl.classList.add('colab-df-spinner');\n",
              "      try {\n",
              "        const charts = await google.colab.kernel.invokeFunction(\n",
              "            'suggestCharts', [key], {});\n",
              "      } catch (error) {\n",
              "        console.error('Error during call to suggestCharts:', error);\n",
              "      }\n",
              "      quickchartButtonEl.classList.remove('colab-df-spinner');\n",
              "      quickchartButtonEl.classList.add('colab-df-quickchart-complete');\n",
              "    }\n",
              "    (() => {\n",
              "      let quickchartButtonEl =\n",
              "        document.querySelector('#df-cd59415a-40be-4cdd-af04-b4362831cdc7 button');\n",
              "      quickchartButtonEl.style.display =\n",
              "        google.colab.kernel.accessAllowed ? 'block' : 'none';\n",
              "    })();\n",
              "  </script>\n",
              "</div>\n",
              "\n",
              "    </div>\n",
              "  </div>\n"
            ]
          },
          "metadata": {},
          "execution_count": 59
        }
      ]
    },
    {
      "cell_type": "code",
      "source": [
        "df2.info()"
      ],
      "metadata": {
        "colab": {
          "base_uri": "https://localhost:8080/"
        },
        "id": "Lpac5wWoKrGD",
        "outputId": "ccc0d65c-9a9c-4b55-fe5f-d5121be1ef79"
      },
      "execution_count": 60,
      "outputs": [
        {
          "output_type": "stream",
          "name": "stdout",
          "text": [
            "<class 'pandas.core.frame.DataFrame'>\n",
            "RangeIndex: 10494 entries, 0 to 10493\n",
            "Data columns (total 21 columns):\n",
            " #   Column         Non-Null Count  Dtype  \n",
            "---  ------         --------------  -----  \n",
            " 0   row_id         9947 non-null   float64\n",
            " 1   order_id       10494 non-null  object \n",
            " 2   order_date     10029 non-null  object \n",
            " 3   ship_date      10022 non-null  object \n",
            " 4   ship_mode      10494 non-null  object \n",
            " 5   customer_id    10494 non-null  object \n",
            " 6   customer_name  10494 non-null  object \n",
            " 7   segment        10494 non-null  object \n",
            " 8   country        10494 non-null  object \n",
            " 9   city           10494 non-null  object \n",
            " 10  state          10494 non-null  object \n",
            " 11  postal_code    10016 non-null  float64\n",
            " 12  region         10494 non-null  object \n",
            " 13  product_id     10494 non-null  object \n",
            " 14  category       10494 non-null  object \n",
            " 15  sub-category   10494 non-null  object \n",
            " 16  product_name   10494 non-null  object \n",
            " 17  sales          10009 non-null  float64\n",
            " 18  quantity       9973 non-null   float64\n",
            " 19  discount       9950 non-null   float64\n",
            " 20  profit         9968 non-null   float64\n",
            "dtypes: float64(6), object(15)\n",
            "memory usage: 1.7+ MB\n"
          ]
        }
      ]
    },
    {
      "cell_type": "code",
      "source": [
        "from fuzzywuzzy import process\n",
        "\n",
        "# List of correct city names (you might want to use a more comprehensive list)\n",
        "correct_state_names = [\"Alabama\", \"Alaska\", \"Arizona\", \"Arkansas\", \"California\", \"Colorado\",\n",
        "    \"Connecticut\", \"Delaware\", \"Florida\", \"Georgia\", \"Hawaii\", \"Idaho\",\n",
        "    \"Illinois\", \"Indiana\", \"Iowa\", \"Kansas\", \"Kentucky\", \"Louisiana\",\n",
        "    \"Maine\", \"Maryland\", \"Massachusetts\", \"Michigan\", \"Minnesota\",\n",
        "    \"Mississippi\", \"Missouri\", \"Montana\", \"Nebraska\", \"Nevada\",\n",
        "    \"New Hampshire\", \"New Jersey\", \"New Mexico\", \"New York\",\n",
        "    \"North Carolina\", \"North Dakota\", \"Ohio\", \"Oklahoma\", \"Oregon\",\n",
        "    \"Pennsylvania\", \"Rhode Island\", \"South Carolina\", \"South Dakota\",\n",
        "    \"Tennessee\", \"Texas\", \"Utah\", \"Vermont\", \"Virginia\", \"Washington\",\n",
        "    \"West Virginia\", \"Wisconsin\", \"Wyoming\"]\n",
        "df2['state'] = df2['state'].apply(lambda x: process.extractOne(x,correct_state_names)[0])\n"
      ],
      "metadata": {
        "id": "buQTHiHwKzT2"
      },
      "execution_count": 79,
      "outputs": []
    },
    {
      "cell_type": "code",
      "source": [
        "df2['state'].nunique()"
      ],
      "metadata": {
        "colab": {
          "base_uri": "https://localhost:8080/"
        },
        "id": "26CWtKy9Msh1",
        "outputId": "9f53e29e-7186-4549-8c46-122b003302fc"
      },
      "execution_count": 78,
      "outputs": [
        {
          "output_type": "execute_result",
          "data": {
            "text/plain": [
              "477"
            ]
          },
          "metadata": {},
          "execution_count": 78
        }
      ]
    },
    {
      "cell_type": "code",
      "source": [
        "df2[\"region\"].nunique()"
      ],
      "metadata": {
        "colab": {
          "base_uri": "https://localhost:8080/"
        },
        "id": "ZQUNJPXXMvSU",
        "outputId": "c20a50a1-f88c-4dce-d0e8-91abac8ed360"
      },
      "execution_count": 77,
      "outputs": [
        {
          "output_type": "execute_result",
          "data": {
            "text/plain": [
              "4"
            ]
          },
          "metadata": {},
          "execution_count": 77
        }
      ]
    },
    {
      "cell_type": "code",
      "source": [
        "df2['region'].value_counts()"
      ],
      "metadata": {
        "colab": {
          "base_uri": "https://localhost:8080/"
        },
        "id": "X5fwCxsLM7ot",
        "outputId": "02d3106d-308c-4b94-ea29-dea1126f8436"
      },
      "execution_count": 76,
      "outputs": [
        {
          "output_type": "execute_result",
          "data": {
            "text/plain": [
              "West       3316\n",
              "East       3039\n",
              "Central    2439\n",
              "South      1700\n",
              "Name: region, dtype: int64"
            ]
          },
          "metadata": {},
          "execution_count": 76
        }
      ]
    },
    {
      "cell_type": "code",
      "source": [
        "from fuzzywuzzy import process\n",
        "\n",
        "# List of correct region names\n",
        "correct_region_names = [\"Central\", \"South\", \"East\", \"West\"]\n",
        "df2['region'] = df2['region'].apply(lambda x: process.extractOne(x,correct_region_names)[0])"
      ],
      "metadata": {
        "id": "KUPGSw9HNC47"
      },
      "execution_count": 74,
      "outputs": []
    },
    {
      "cell_type": "code",
      "source": [
        "df2['region'].value_counts()"
      ],
      "metadata": {
        "colab": {
          "base_uri": "https://localhost:8080/"
        },
        "id": "KGs3LiUWNjEa",
        "outputId": "e57de91a-4474-4c8d-98b0-4636482b843c"
      },
      "execution_count": 75,
      "outputs": [
        {
          "output_type": "execute_result",
          "data": {
            "text/plain": [
              "West       3316\n",
              "East       3039\n",
              "Central    2439\n",
              "South      1700\n",
              "Name: region, dtype: int64"
            ]
          },
          "metadata": {},
          "execution_count": 75
        }
      ]
    },
    {
      "cell_type": "code",
      "source": [
        "df['sub-category'].value_counts()"
      ],
      "metadata": {
        "colab": {
          "base_uri": "https://localhost:8080/"
        },
        "id": "om3gb1mPNnVn",
        "outputId": "3b15c0ac-1dc8-4340-c816-c0bbd99ab588"
      },
      "execution_count": 69,
      "outputs": [
        {
          "output_type": "execute_result",
          "data": {
            "text/plain": [
              "Binders        1499\n",
              "Paper          1372\n",
              "Furnishings     965\n",
              "Phones          869\n",
              "Storage         855\n",
              "               ... \n",
              "Arj               1\n",
              "saper             1\n",
              "Accessoyies       1\n",
              "Bindexs           1\n",
              "gaper             1\n",
              "Name: sub-category, Length: 456, dtype: int64"
            ]
          },
          "metadata": {},
          "execution_count": 69
        }
      ]
    },
    {
      "cell_type": "code",
      "source": [
        "df2= df2.rename(columns={'sub-category': 'sub_category'})\n"
      ],
      "metadata": {
        "id": "Fy7X5Pl9Plnu"
      },
      "execution_count": 71,
      "outputs": []
    },
    {
      "cell_type": "code",
      "source": [
        "from fuzzywuzzy import process\n",
        "\n",
        "# List of correct 'sub-category'\n",
        "correct_sub_category= [\"Binders\", \"Paper\", \"Furnishings\", \"Phones\",\"Storage\"]\n",
        "df2['sub_category'] = df2['sub_category'].apply(lambda x: process.extractOne(x,correct_sub_category)[0])"
      ],
      "metadata": {
        "id": "PZL_eDPmNyR7"
      },
      "execution_count": 73,
      "outputs": []
    },
    {
      "cell_type": "code",
      "source": [
        "df2['sub_category'].value_counts()"
      ],
      "metadata": {
        "colab": {
          "base_uri": "https://localhost:8080/"
        },
        "id": "6Kh39jTfQeM7",
        "outputId": "d973b77a-5d73-4fe9-e917-1b39d08218e0"
      },
      "execution_count": 80,
      "outputs": [
        {
          "output_type": "execute_result",
          "data": {
            "text/plain": [
              "Binders        3218\n",
              "Paper          2468\n",
              "Phones         2050\n",
              "Storage        1730\n",
              "Furnishings    1028\n",
              "Name: sub_category, dtype: int64"
            ]
          },
          "metadata": {},
          "execution_count": 80
        }
      ]
    },
    {
      "cell_type": "markdown",
      "source": [
        "HANDLING MISSING VALUES: I WONT BE CLEANING MISSING VALUES IN COLUMNS THAT I WONT BE NEEDING FOR ANALYSIS\n",
        "\n"
      ],
      "metadata": {
        "id": "oZFMTl0bQ3YJ"
      }
    },
    {
      "cell_type": "code",
      "source": [
        "df.isna().sum()"
      ],
      "metadata": {
        "colab": {
          "base_uri": "https://localhost:8080/"
        },
        "id": "Wz9VmwIaRK_U",
        "outputId": "6ace94ee-f4b2-43cb-80d7-30f7c803edd6"
      },
      "execution_count": 81,
      "outputs": [
        {
          "output_type": "execute_result",
          "data": {
            "text/plain": [
              "row_id           547\n",
              "order_id           0\n",
              "order_date       465\n",
              "ship_date        472\n",
              "ship_mode          0\n",
              "customer_id        0\n",
              "customer_name      0\n",
              "segment            0\n",
              "country            0\n",
              "city               0\n",
              "state              0\n",
              "postal_code      478\n",
              "region             0\n",
              "product_id         0\n",
              "category           0\n",
              "sub-category       0\n",
              "product_name       0\n",
              "sales            485\n",
              "quantity         521\n",
              "discount         544\n",
              "profit           526\n",
              "dtype: int64"
            ]
          },
          "metadata": {},
          "execution_count": 81
        }
      ]
    },
    {
      "cell_type": "code",
      "source": [],
      "metadata": {
        "id": "Nj2L4OkERmrk"
      },
      "execution_count": null,
      "outputs": []
    },
    {
      "cell_type": "code",
      "source": [],
      "metadata": {
        "id": "haJxFf6OQiNo"
      },
      "execution_count": null,
      "outputs": []
    },
    {
      "cell_type": "markdown",
      "source": [
        "HANDLING MISSING VALUES. I WONT BE CLEANING MISSING VALUES IN COLU"
      ],
      "metadata": {
        "id": "mqegcDJ1QtrC"
      }
    },
    {
      "cell_type": "code",
      "source": [
        "df2.shape"
      ],
      "metadata": {
        "colab": {
          "base_uri": "https://localhost:8080/"
        },
        "id": "StZrv_rRRopu",
        "outputId": "fdd4d72f-2408-46d3-ffdc-40d79b54c037"
      },
      "execution_count": 82,
      "outputs": [
        {
          "output_type": "execute_result",
          "data": {
            "text/plain": [
              "(10494, 21)"
            ]
          },
          "metadata": {},
          "execution_count": 82
        }
      ]
    },
    {
      "cell_type": "code",
      "source": [
        "df_new = df2.dropna()\n"
      ],
      "metadata": {
        "id": "t1tWdpO2Rr_U"
      },
      "execution_count": 85,
      "outputs": []
    },
    {
      "cell_type": "code",
      "source": [
        "df_new.isna().sum()"
      ],
      "metadata": {
        "colab": {
          "base_uri": "https://localhost:8080/"
        },
        "id": "G0oHzjTQSRTY",
        "outputId": "20ca6205-4124-4ae9-abd8-ad77ec5ed6c3"
      },
      "execution_count": 86,
      "outputs": [
        {
          "output_type": "execute_result",
          "data": {
            "text/plain": [
              "row_id           0\n",
              "order_id         0\n",
              "order_date       0\n",
              "ship_date        0\n",
              "ship_mode        0\n",
              "customer_id      0\n",
              "customer_name    0\n",
              "segment          0\n",
              "country          0\n",
              "city             0\n",
              "state            0\n",
              "postal_code      0\n",
              "region           0\n",
              "product_id       0\n",
              "category         0\n",
              "sub_category     0\n",
              "product_name     0\n",
              "sales            0\n",
              "quantity         0\n",
              "discount         0\n",
              "profit           0\n",
              "dtype: int64"
            ]
          },
          "metadata": {},
          "execution_count": 86
        }
      ]
    },
    {
      "cell_type": "code",
      "source": [
        "df_new.shape"
      ],
      "metadata": {
        "colab": {
          "base_uri": "https://localhost:8080/"
        },
        "id": "ea_3It4ISloV",
        "outputId": "e48e7a57-2989-470d-adf7-c575cc7a692d"
      },
      "execution_count": 87,
      "outputs": [
        {
          "output_type": "execute_result",
          "data": {
            "text/plain": [
              "(7104, 21)"
            ]
          },
          "metadata": {},
          "execution_count": 87
        }
      ]
    },
    {
      "cell_type": "code",
      "source": [
        "df_new.to_csv('ready.csv', index=False)\n",
        "from google.colab import files\n",
        "files.download('ready.csv')"
      ],
      "metadata": {
        "colab": {
          "base_uri": "https://localhost:8080/",
          "height": 17
        },
        "id": "ml2BqWAxUA71",
        "outputId": "246db162-4a25-46a9-f9df-c0de0e3b04e9"
      },
      "execution_count": 89,
      "outputs": [
        {
          "output_type": "display_data",
          "data": {
            "text/plain": [
              "<IPython.core.display.Javascript object>"
            ],
            "application/javascript": [
              "\n",
              "    async function download(id, filename, size) {\n",
              "      if (!google.colab.kernel.accessAllowed) {\n",
              "        return;\n",
              "      }\n",
              "      const div = document.createElement('div');\n",
              "      const label = document.createElement('label');\n",
              "      label.textContent = `Downloading \"${filename}\": `;\n",
              "      div.appendChild(label);\n",
              "      const progress = document.createElement('progress');\n",
              "      progress.max = size;\n",
              "      div.appendChild(progress);\n",
              "      document.body.appendChild(div);\n",
              "\n",
              "      const buffers = [];\n",
              "      let downloaded = 0;\n",
              "\n",
              "      const channel = await google.colab.kernel.comms.open(id);\n",
              "      // Send a message to notify the kernel that we're ready.\n",
              "      channel.send({})\n",
              "\n",
              "      for await (const message of channel.messages) {\n",
              "        // Send a message to notify the kernel that we're ready.\n",
              "        channel.send({})\n",
              "        if (message.buffers) {\n",
              "          for (const buffer of message.buffers) {\n",
              "            buffers.push(buffer);\n",
              "            downloaded += buffer.byteLength;\n",
              "            progress.value = downloaded;\n",
              "          }\n",
              "        }\n",
              "      }\n",
              "      const blob = new Blob(buffers, {type: 'application/binary'});\n",
              "      const a = document.createElement('a');\n",
              "      a.href = window.URL.createObjectURL(blob);\n",
              "      a.download = filename;\n",
              "      div.appendChild(a);\n",
              "      a.click();\n",
              "      div.remove();\n",
              "    }\n",
              "  "
            ]
          },
          "metadata": {}
        },
        {
          "output_type": "display_data",
          "data": {
            "text/plain": [
              "<IPython.core.display.Javascript object>"
            ],
            "application/javascript": [
              "download(\"download_e5b48f05-06fc-47ac-98e6-59cf40663c99\", \"ready.csv\", 1871538)"
            ]
          },
          "metadata": {}
        }
      ]
    }
  ]
}